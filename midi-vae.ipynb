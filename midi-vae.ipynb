{
 "cells": [
  {
   "cell_type": "code",
   "execution_count": 0,
   "metadata": {
    "colab": {},
    "colab_type": "code",
    "id": "Ww6f88s84XUb"
   },
   "outputs": [],
   "source": [
    "%tensorflow_version 2.x\n",
    "import tensorflow as tf\n",
    "from tensorflow.keras.layers import Input, Dense, Conv2D, MaxPooling2D, UpSampling2D, Dense, Flatten, Reshape, LSTM, Conv2DTranspose\n",
    "from tensorflow.keras.models import Model, load_model\n",
    "from tensorflow.keras import backend as K\n",
    "import numpy as np\n",
    "from tensorflow.keras.datasets import mnist\n",
    "import matplotlib.pyplot as plt\n",
    "%matplotlib inline\n",
    "from PIL import Image, ImageDraw\n",
    "import os\n",
    "from os.path import join\n",
    "from IPython.display import clear_output\n",
    "from tqdm.autonotebook import tqdm\n",
    "import gc\n",
    "import time\n",
    "import json\n",
    "import multiprocessing\n",
    "gpu = tf.config.experimental.list_physical_devices('GPU')[0]\n",
    "tf.config.experimental_run_functions_eagerly(True)"
   ]
  },
  {
   "cell_type": "code",
   "execution_count": 1,
   "metadata": {
    "colab": {
     "base_uri": "https://localhost:8080/",
     "height": 322
    },
    "colab_type": "code",
    "executionInfo": {
     "elapsed": 3824,
     "status": "ok",
     "timestamp": 1589442872873,
     "user": {
      "displayName": "Vladimir Malinovskii",
      "photoUrl": "https://lh3.googleusercontent.com/a-/AOh14Gj688PP5GPUgcL6ZDNH-aCngIr_Bgzpk6rg4DMRpQ=s64",
      "userId": "09520690191727306440"
     },
     "user_tz": -180
    },
    "id": "FwWYBcPuLUNa",
    "outputId": "28936ebe-abea-4ed6-adc8-799899ce10b2"
   },
   "outputs": [
    {
     "name": "stdout",
     "output_type": "stream",
     "text": [
      "Thu May 14 07:54:30 2020       \n",
      "+-----------------------------------------------------------------------------+\n",
      "| NVIDIA-SMI 440.82       Driver Version: 418.67       CUDA Version: 10.1     |\n",
      "|-------------------------------+----------------------+----------------------+\n",
      "| GPU  Name        Persistence-M| Bus-Id        Disp.A | Volatile Uncorr. ECC |\n",
      "| Fan  Temp  Perf  Pwr:Usage/Cap|         Memory-Usage | GPU-Util  Compute M. |\n",
      "|===============================+======================+======================|\n",
      "|   0  Tesla K80           Off  | 00000000:00:04.0 Off |                    0 |\n",
      "| N/A   52C    P8    32W / 149W |      0MiB / 11441MiB |      0%      Default |\n",
      "+-------------------------------+----------------------+----------------------+\n",
      "                                                                               \n",
      "+-----------------------------------------------------------------------------+\n",
      "| Processes:                                                       GPU Memory |\n",
      "|  GPU       PID   Type   Process name                             Usage      |\n",
      "|=============================================================================|\n",
      "|  No running processes found                                                 |\n",
      "+-----------------------------------------------------------------------------+\n"
     ]
    }
   ],
   "source": [
    "!nvidia-smi"
   ]
  },
  {
   "cell_type": "code",
   "execution_count": 0,
   "metadata": {
    "colab": {
     "base_uri": "https://localhost:8080/",
     "height": 214
    },
    "colab_type": "code",
    "executionInfo": {
     "elapsed": 34117,
     "status": "ok",
     "timestamp": 1588986740876,
     "user": {
      "displayName": "Vladimir Malinovskii",
      "photoUrl": "https://lh3.googleusercontent.com/a-/AOh14Gj688PP5GPUgcL6ZDNH-aCngIr_Bgzpk6rg4DMRpQ=s64",
      "userId": "09520690191727306440"
     },
     "user_tz": -180
    },
    "id": "fuyy3f-x9T6p",
    "outputId": "b651bd17-a2bc-4f15-ef01-7601a28b4bef"
   },
   "outputs": [
    {
     "name": "stdout",
     "output_type": "stream",
     "text": [
      "--2020-05-09 01:11:55--  https://big.galqiwi.ru/toshare/dataset.json\n",
      "Resolving big.galqiwi.ru (big.galqiwi.ru)... 185.5.248.186\n",
      "Connecting to big.galqiwi.ru (big.galqiwi.ru)|185.5.248.186|:443... connected.\n",
      "HTTP request sent, awaiting response... 200 OK\n",
      "Length: 152073197 (145M) [application/json]\n",
      "Saving to: ‘dataset.json’\n",
      "\n",
      "dataset.json        100%[===================>] 145.03M  7.42MB/s    in 24s     \n",
      "\n",
      "2020-05-09 01:12:20 (6.07 MB/s) - ‘dataset.json’ saved [152073197/152073197]\n",
      "\n"
     ]
    }
   ],
   "source": [
    "!wget https://big.galqiwi.ru/toshare/dataset.json"
   ]
  },
  {
   "cell_type": "code",
   "execution_count": null,
   "metadata": {
    "colab": {
     "base_uri": "https://localhost:8080/",
     "height": 376
    },
    "colab_type": "code",
    "executionInfo": {
     "elapsed": 7298,
     "status": "error",
     "timestamp": 1589005103167,
     "user": {
      "displayName": "Vladimir Malinovskii",
      "photoUrl": "https://lh3.googleusercontent.com/a-/AOh14Gj688PP5GPUgcL6ZDNH-aCngIr_Bgzpk6rg4DMRpQ=s64",
      "userId": "09520690191727306440"
     },
     "user_tz": -180
    },
    "id": "cqWRE3VB9YQB",
    "outputId": "e70eb61b-97a0-4d7b-fe3a-ec452ac9b517"
   },
   "outputs": [],
   "source": [
    "with open('dataset.json', 'r') as file:\n",
    "  dataset = json.load(file)\n",
    "dataset = [_ for _ in dataset if _ != None and _ != {}]\n",
    "gc.collect()"
   ]
  },
  {
   "cell_type": "code",
   "execution_count": 0,
   "metadata": {
    "colab": {
     "base_uri": "https://localhost:8080/",
     "height": 35
    },
    "colab_type": "code",
    "executionInfo": {
     "elapsed": 46811,
     "status": "ok",
     "timestamp": 1588986755511,
     "user": {
      "displayName": "Vladimir Malinovskii",
      "photoUrl": "https://lh3.googleusercontent.com/a-/AOh14Gj688PP5GPUgcL6ZDNH-aCngIr_Bgzpk6rg4DMRpQ=s64",
      "userId": "09520690191727306440"
     },
     "user_tz": -180
    },
    "id": "sVlTnRRb9fFy",
    "outputId": "6fa75afa-83f3-4e57-db74-5bb125ee9139"
   },
   "outputs": [
    {
     "name": "stdout",
     "output_type": "stream",
     "text": [
      "642257 10000\n"
     ]
    }
   ],
   "source": [
    "test_dataset = dataset[-10000:]\n",
    "dataset = dataset[:-10000]\n",
    "print(len(dataset), len(test_dataset))"
   ]
  },
  {
   "cell_type": "code",
   "execution_count": 0,
   "metadata": {
    "colab": {},
    "colab_type": "code",
    "id": "zgGu3aSc-eyU"
   },
   "outputs": [],
   "source": [
    "input_dim = 96 * 128\n",
    "latent_dim = 500\n",
    "hldim = 4000\n",
    "\n",
    "inp = Input((96, 128))\n",
    "x = tf.keras.layers.Flatten()(inp)\n",
    "x = Dense((hldim), 'relu')(x)\n",
    "x = Dense(latent_dim * 2)(x)\n",
    "encoder_model = Model(inp, x)\n",
    "\n",
    "inp = Input(latent_dim)\n",
    "x = Dense((hldim), 'relu')(inp)\n",
    "x = Dense(96 * 128, 'sigmoid')(x)\n",
    "x = Reshape((96, 128))(x)\n",
    "decoder_model = Model(inp, x)\n",
    "\n",
    "opt = tf.keras.optimizers.Adam()"
   ]
  },
  {
   "cell_type": "code",
   "execution_count": 0,
   "metadata": {
    "colab": {},
    "colab_type": "code",
    "id": "k1KN2dwJ-tpY"
   },
   "outputs": [],
   "source": [
    "def set_measure(frame, data_compressed):\n",
    "  for key in data_compressed:\n",
    "    for press in data_compressed[key]:\n",
    "      for _ in range(press[0], press[1]):\n",
    "        frame[_][int(key)] = 1"
   ]
  },
  {
   "cell_type": "code",
   "execution_count": 0,
   "metadata": {
    "colab": {},
    "colab_type": "code",
    "id": "b7H82YBi-uR2"
   },
   "outputs": [],
   "source": [
    "raw_test = np.zeros((10000, 96, 128))\n",
    "for _ in range(len(test_dataset)):\n",
    "  set_measure(raw_test[_], test_dataset[_])"
   ]
  },
  {
   "cell_type": "code",
   "execution_count": 0,
   "metadata": {
    "colab": {},
    "colab_type": "code",
    "id": "Iarcb5jX-zyt"
   },
   "outputs": [],
   "source": [
    "@tf.function\n",
    "def train_on_batch(batch):\n",
    "    with tf.GradientTape() as tape:\n",
    "        tv = decoder_model.trainable_variables + encoder_model.trainable_variables\n",
    "        tape.watch(tv)\n",
    "        pred = encoder_model(batch)\n",
    "        mid = pred[:,:latent_dim]\n",
    "        logsigm = pred[:,latent_dim:]\n",
    "        eps = tf.random.normal(shape=mid.shape)\n",
    "        pred_mid = eps * tf.exp((logsigm - 1) * .5) + mid\n",
    "        pred = decoder_model(pred_mid)\n",
    "        L0 = tf.reduce_mean(tf.keras.losses.binary_crossentropy(batch, pred)) * 100\n",
    "        L1 = tf.keras.backend.mean((tf.exp(logsigm) - 1. - logsigm) * 1.0 + tf.square(mid)) * 0.75\n",
    "        L = L0 + L1\n",
    "    grad = tape.gradient(L, tv)\n",
    "    opt.apply_gradients(zip(grad, tv))\n",
    "    return (L, L0, L1)\n",
    "\n",
    "@tf.function\n",
    "def test_model():\n",
    "  v = encoder_model(raw_test)[:,:latent_dim]\n",
    "  out = decoder_model(v)\n",
    "  return tf.reduce_mean(tf.keras.losses.binary_crossentropy(raw_test, out))\n",
    "\n",
    "def train_on_compress_batch(batch):\n",
    "  data = np.zeros((len(batch), 96, 128))\n",
    "  for _ in range(len(batch)):\n",
    "    set_measure(data[_], batch[_])\n",
    "  out =  train_on_batch(data)\n",
    "  data = None\n",
    "  gc.collect()\n",
    "  return out"
   ]
  },
  {
   "cell_type": "code",
   "execution_count": 0,
   "metadata": {
    "colab": {},
    "colab_type": "code",
    "id": "lQDwn7_hkY2a"
   },
   "outputs": [],
   "source": [
    "filling = np.mean(raw_test)"
   ]
  },
  {
   "cell_type": "code",
   "execution_count": 0,
   "metadata": {
    "colab": {},
    "colab_type": "code",
    "id": "LvEk9ZLsdzEl"
   },
   "outputs": [],
   "source": [
    "def show_plots(trimmer = 0):\n",
    "  tags = sorted(losses_tests.keys())\n",
    "  legend_ = []\n",
    "  for _ in tags:\n",
    "    plt.plot('x', 'y', data={'x': losses_tests[_]['x'][trimmer:], 'y': losses_tests[_]['y1'][trimmer:] / filling})\n",
    "    legend_.append(_)\n",
    "    plt.plot('x', 'y', data={'x': losses_tests[_]['x'][trimmer:], 'y': losses_tests[_]['y2'][trimmer:] / filling})\n",
    "    legend_.append(_ + '_v')\n",
    "  plt.yscale('log')\n",
    "  plt.legend(legend_)\n",
    "  clear_output(True)\n",
    "  plt.show()"
   ]
  },
  {
   "cell_type": "code",
   "execution_count": 0,
   "metadata": {
    "colab": {},
    "colab_type": "code",
    "id": "OqdBSmqQKVYC"
   },
   "outputs": [],
   "source": [
    "losses_tests = {}"
   ]
  },
  {
   "cell_type": "code",
   "execution_count": 0,
   "metadata": {
    "colab": {},
    "colab_type": "code",
    "id": "40pYTdmmXG73"
   },
   "outputs": [],
   "source": [
    "opt = tf.keras.optimizers.SGD(learning_rate=0.02, momentum=0.0)"
   ]
  },
  {
   "cell_type": "code",
   "execution_count": 0,
   "metadata": {
    "colab": {},
    "colab_type": "code",
    "id": "-CNWcy_fgu2o"
   },
   "outputs": [],
   "source": [
    "def save_loss():\n",
    "  global losses_tests\n",
    "  with open('gdrive/My Drive/midi-vae-500/loss', 'w') as file:\n",
    "    keyname = list(losses_tests.keys())[0]\n",
    "    x = losses_tests[keyname]['x']\n",
    "    y = [float(_) for _ in losses_tests[keyname]['y']]\n",
    "    y1 = [float(_) for _ in losses_tests[keyname]['y1']]\n",
    "    y2 = [float(_) for _ in losses_tests[keyname]['y2']]\n",
    "    file.write(json.dumps([x, y, y1, y2]))"
   ]
  },
  {
   "cell_type": "code",
   "execution_count": 0,
   "metadata": {
    "colab": {},
    "colab_type": "code",
    "id": "lP7e07Og6Sff"
   },
   "outputs": [],
   "source": [
    "with open('gdrive/My Drive/midi-vae-500/loss', 'r') as file:\n",
    "  _ = json.loads(file.read())\n",
    "  key_name = 'test_fixed_batches_{0}_{1}'.format(2 ** 13, 6000000)\n",
    "  losses_tests[key_name] = {}\n",
    "  losses_tests[key_name]['x'] = _[0]\n",
    "  losses_tests[key_name]['y'] = _[1]\n",
    "  losses_tests[key_name]['y1'] = _[2]\n",
    "  losses_tests[key_name]['y2'] = _[3]\n",
    "  #print(key_name[1])"
   ]
  },
  {
   "cell_type": "code",
   "execution_count": 0,
   "metadata": {
    "colab": {
     "base_uri": "https://localhost:8080/",
     "height": 265
    },
    "colab_type": "code",
    "executionInfo": {
     "elapsed": 734,
     "status": "ok",
     "timestamp": 1589005285670,
     "user": {
      "displayName": "Vladimir Malinovskii",
      "photoUrl": "https://lh3.googleusercontent.com/a-/AOh14Gj688PP5GPUgcL6ZDNH-aCngIr_Bgzpk6rg4DMRpQ=s64",
      "userId": "09520690191727306440"
     },
     "user_tz": -180
    },
    "id": "tapvAjOZzpCU",
    "outputId": "de216273-1d39-43d6-e38e-17898845914b"
   },
   "outputs": [
    {
     "data": {
      "image/png": "[encoded data removed]",
      "text/plain": [
       "<Figure size 432x288 with 1 Axes>"
      ]
     },
     "metadata": {
      "needs_background": "light",
      "tags": []
     },
     "output_type": "display_data"
    }
   ],
   "source": [
    "show_plots(-200)"
   ]
  },
  {
   "cell_type": "code",
   "execution_count": 0,
   "metadata": {
    "colab": {
     "base_uri": "https://localhost:8080/",
     "height": 53
    },
    "colab_type": "code",
    "executionInfo": {
     "elapsed": 6112,
     "status": "ok",
     "timestamp": 1588986818556,
     "user": {
      "displayName": "Vladimir Malinovskii",
      "photoUrl": "https://lh3.googleusercontent.com/a-/AOh14Gj688PP5GPUgcL6ZDNH-aCngIr_Bgzpk6rg4DMRpQ=s64",
      "userId": "09520690191727306440"
     },
     "user_tz": -180
    },
    "id": "d8_bb9Q25waH",
    "outputId": "5cfaed22-e0aa-4bc1-8f6a-934acf359c1a"
   },
   "outputs": [
    {
     "name": "stdout",
     "output_type": "stream",
     "text": [
      "WARNING:tensorflow:No training configuration found in the save file, so the model was *not* compiled. Compile it manually.\n",
      "WARNING:tensorflow:No training configuration found in the save file, so the model was *not* compiled. Compile it manually.\n"
     ]
    }
   ],
   "source": [
    "max_time = sorted([int(_.split('_')[-1][:-3]) for _ in os.listdir('gdrive/My Drive/midi-vae-500') if _[-3:] == '.h5' and _[0] == 'e'])[-1]\n",
    "encoder_model = load_model(f'gdrive/My Drive/midi-vae-500/encoder_4000-500_{max_time}.h5')\n",
    "decoder_model = load_model(f'gdrive/My Drive/midi-vae-500/decoder_4000-500_{max_time}.h5')"
   ]
  },
  {
   "cell_type": "code",
   "execution_count": 0,
   "metadata": {
    "colab": {
     "base_uri": "https://localhost:8080/",
     "height": 606
    },
    "colab_type": "code",
    "executionInfo": {
     "elapsed": 12595774,
     "status": "error",
     "timestamp": 1588999461634,
     "user": {
      "displayName": "Vladimir Malinovskii",
      "photoUrl": "https://lh3.googleusercontent.com/a-/AOh14Gj688PP5GPUgcL6ZDNH-aCngIr_Bgzpk6rg4DMRpQ=s64",
      "userId": "09520690191727306440"
     },
     "user_tz": -180
    },
    "id": "lywV5pGcLBcD",
    "outputId": "c4132f47-e8ca-4cd5-e0b1-b027acd1faa1"
   },
   "outputs": [
    {
     "data": {
      "image/png": "[encoded data removed]",
      "text/plain": [
       "<Figure size 432x288 with 1 Axes>"
      ]
     },
     "metadata": {
      "needs_background": "light",
      "tags": []
     },
     "output_type": "display_data"
    },
    {
     "ename": "KeyboardInterrupt",
     "evalue": "ignored",
     "output_type": "error",
     "traceback": [
      "\u001b[0;31m---------------------------------------------------------------------------\u001b[0m",
      "\u001b[0;31mKeyboardInterrupt\u001b[0m                         Traceback (most recent call last)",
      "\u001b[0;32m<ipython-input-20-eb2236e87dab>\u001b[0m in \u001b[0;36m<module>\u001b[0;34m()\u001b[0m\n\u001b[1;32m     28\u001b[0m       \u001b[0mshow_plots\u001b[0m\u001b[0;34m(\u001b[0m\u001b[0;34m)\u001b[0m\u001b[0;34m\u001b[0m\u001b[0;34m\u001b[0m\u001b[0m\n\u001b[1;32m     29\u001b[0m \u001b[0;34m\u001b[0m\u001b[0m\n\u001b[0;32m---> 30\u001b[0;31m \u001b[0mtest_fixed_batches\u001b[0m\u001b[0;34m(\u001b[0m\u001b[0;36m2\u001b[0m \u001b[0;34m**\u001b[0m \u001b[0;36m13\u001b[0m\u001b[0;34m)\u001b[0m\u001b[0;34m\u001b[0m\u001b[0;34m\u001b[0m\u001b[0m\n\u001b[0m\u001b[1;32m     31\u001b[0m \u001b[0;31m#test_unfixed_batches(2 ** 10)\u001b[0m\u001b[0;34m\u001b[0m\u001b[0;34m\u001b[0m\u001b[0;34m\u001b[0m\u001b[0m\n\u001b[1;32m     32\u001b[0m \u001b[0;31m#test_fixed_batches(2 ** 11)\u001b[0m\u001b[0;34m\u001b[0m\u001b[0;34m\u001b[0m\u001b[0;34m\u001b[0m\u001b[0m\n",
      "\u001b[0;32m<ipython-input-20-eb2236e87dab>\u001b[0m in \u001b[0;36mtest_fixed_batches\u001b[0;34m(batch_size, max_time)\u001b[0m\n\u001b[1;32m     11\u001b[0m   \u001b[0;31m# return 0\u001b[0m\u001b[0;34m\u001b[0m\u001b[0;34m\u001b[0m\u001b[0;34m\u001b[0m\u001b[0m\n\u001b[1;32m     12\u001b[0m   \u001b[0;32mwhile\u001b[0m \u001b[0;32mTrue\u001b[0m\u001b[0;34m:\u001b[0m\u001b[0;34m\u001b[0m\u001b[0;34m\u001b[0m\u001b[0m\n\u001b[0;32m---> 13\u001b[0;31m     \u001b[0mL\u001b[0m \u001b[0;34m=\u001b[0m \u001b[0mtrain_on_compress_batch\u001b[0m\u001b[0;34m(\u001b[0m\u001b[0mbatches\u001b[0m\u001b[0;34m[\u001b[0m\u001b[0mbatch_id\u001b[0m\u001b[0;34m]\u001b[0m\u001b[0;34m)\u001b[0m\u001b[0;34m\u001b[0m\u001b[0;34m\u001b[0m\u001b[0m\n\u001b[0m\u001b[1;32m     14\u001b[0m     \u001b[0mbatch_id\u001b[0m \u001b[0;34m=\u001b[0m \u001b[0;34m(\u001b[0m\u001b[0mbatch_id\u001b[0m \u001b[0;34m+\u001b[0m \u001b[0;36m1\u001b[0m\u001b[0;34m)\u001b[0m \u001b[0;34m%\u001b[0m \u001b[0mlen\u001b[0m\u001b[0;34m(\u001b[0m\u001b[0mbatches\u001b[0m\u001b[0;34m)\u001b[0m\u001b[0;34m\u001b[0m\u001b[0;34m\u001b[0m\u001b[0m\n\u001b[1;32m     15\u001b[0m     \u001b[0mcurrent_time\u001b[0m \u001b[0;34m=\u001b[0m \u001b[0mtime\u001b[0m\u001b[0;34m.\u001b[0m\u001b[0mtime\u001b[0m\u001b[0;34m(\u001b[0m\u001b[0;34m)\u001b[0m \u001b[0;34m-\u001b[0m \u001b[0mbegin\u001b[0m\u001b[0;34m\u001b[0m\u001b[0;34m\u001b[0m\u001b[0m\n",
      "\u001b[0;32m<ipython-input-8-4493966941fa>\u001b[0m in \u001b[0;36mtrain_on_compress_batch\u001b[0;34m(batch)\u001b[0m\n\u001b[1;32m     26\u001b[0m   \u001b[0mdata\u001b[0m \u001b[0;34m=\u001b[0m \u001b[0mnp\u001b[0m\u001b[0;34m.\u001b[0m\u001b[0mzeros\u001b[0m\u001b[0;34m(\u001b[0m\u001b[0;34m(\u001b[0m\u001b[0mlen\u001b[0m\u001b[0;34m(\u001b[0m\u001b[0mbatch\u001b[0m\u001b[0;34m)\u001b[0m\u001b[0;34m,\u001b[0m \u001b[0;36m96\u001b[0m\u001b[0;34m,\u001b[0m \u001b[0;36m128\u001b[0m\u001b[0;34m)\u001b[0m\u001b[0;34m)\u001b[0m\u001b[0;34m\u001b[0m\u001b[0;34m\u001b[0m\u001b[0m\n\u001b[1;32m     27\u001b[0m   \u001b[0;32mfor\u001b[0m \u001b[0m_\u001b[0m \u001b[0;32min\u001b[0m \u001b[0mrange\u001b[0m\u001b[0;34m(\u001b[0m\u001b[0mlen\u001b[0m\u001b[0;34m(\u001b[0m\u001b[0mbatch\u001b[0m\u001b[0;34m)\u001b[0m\u001b[0;34m)\u001b[0m\u001b[0;34m:\u001b[0m\u001b[0;34m\u001b[0m\u001b[0;34m\u001b[0m\u001b[0m\n\u001b[0;32m---> 28\u001b[0;31m     \u001b[0mset_measure\u001b[0m\u001b[0;34m(\u001b[0m\u001b[0mdata\u001b[0m\u001b[0;34m[\u001b[0m\u001b[0m_\u001b[0m\u001b[0;34m]\u001b[0m\u001b[0;34m,\u001b[0m \u001b[0mbatch\u001b[0m\u001b[0;34m[\u001b[0m\u001b[0m_\u001b[0m\u001b[0;34m]\u001b[0m\u001b[0;34m)\u001b[0m\u001b[0;34m\u001b[0m\u001b[0;34m\u001b[0m\u001b[0m\n\u001b[0m\u001b[1;32m     29\u001b[0m   \u001b[0mout\u001b[0m \u001b[0;34m=\u001b[0m  \u001b[0mtrain_on_batch\u001b[0m\u001b[0;34m(\u001b[0m\u001b[0mdata\u001b[0m\u001b[0;34m)\u001b[0m\u001b[0;34m\u001b[0m\u001b[0;34m\u001b[0m\u001b[0m\n\u001b[1;32m     30\u001b[0m   \u001b[0mdata\u001b[0m \u001b[0;34m=\u001b[0m \u001b[0;32mNone\u001b[0m\u001b[0;34m\u001b[0m\u001b[0;34m\u001b[0m\u001b[0m\n",
      "\u001b[0;32m<ipython-input-6-620725527f91>\u001b[0m in \u001b[0;36mset_measure\u001b[0;34m(frame, data_compressed)\u001b[0m\n\u001b[1;32m      3\u001b[0m     \u001b[0;32mfor\u001b[0m \u001b[0mpress\u001b[0m \u001b[0;32min\u001b[0m \u001b[0mdata_compressed\u001b[0m\u001b[0;34m[\u001b[0m\u001b[0mkey\u001b[0m\u001b[0;34m]\u001b[0m\u001b[0;34m:\u001b[0m\u001b[0;34m\u001b[0m\u001b[0;34m\u001b[0m\u001b[0m\n\u001b[1;32m      4\u001b[0m       \u001b[0;32mfor\u001b[0m \u001b[0m_\u001b[0m \u001b[0;32min\u001b[0m \u001b[0mrange\u001b[0m\u001b[0;34m(\u001b[0m\u001b[0mpress\u001b[0m\u001b[0;34m[\u001b[0m\u001b[0;36m0\u001b[0m\u001b[0;34m]\u001b[0m\u001b[0;34m,\u001b[0m \u001b[0mpress\u001b[0m\u001b[0;34m[\u001b[0m\u001b[0;36m1\u001b[0m\u001b[0;34m]\u001b[0m\u001b[0;34m)\u001b[0m\u001b[0;34m:\u001b[0m\u001b[0;34m\u001b[0m\u001b[0;34m\u001b[0m\u001b[0m\n\u001b[0;32m----> 5\u001b[0;31m         \u001b[0mframe\u001b[0m\u001b[0;34m[\u001b[0m\u001b[0m_\u001b[0m\u001b[0;34m]\u001b[0m\u001b[0;34m[\u001b[0m\u001b[0mint\u001b[0m\u001b[0;34m(\u001b[0m\u001b[0mkey\u001b[0m\u001b[0;34m)\u001b[0m\u001b[0;34m]\u001b[0m \u001b[0;34m=\u001b[0m \u001b[0;36m1\u001b[0m\u001b[0;34m\u001b[0m\u001b[0;34m\u001b[0m\u001b[0m\n\u001b[0m",
      "\u001b[0;31mKeyboardInterrupt\u001b[0m: "
     ]
    }
   ],
   "source": [
    "def test_fixed_batches(batch_size = 1024, max_time = 6000000):\n",
    "  global losses_tests\n",
    "  name = 'test_fixed_batches_{0}_{1}'.format(batch_size, max_time)\n",
    "  #out = {'x': [], 'y': [], 'y1': [], 'y2': []}\n",
    "  #begin = time.time()\n",
    "  out = losses_tests[name]\n",
    "  begin = time.time() - out['x'][-1]\n",
    "  batches = dataset[:len(dataset) // batch_size * batch_size]\n",
    "  batches = [[batches[__ + _ * batch_size] for __ in range(batch_size)] for _ in range(len(batches) // batch_size)]\n",
    "  batch_id = np.random.randint(0, len(batches))\n",
    "  # return 0\n",
    "  while True:\n",
    "    L = train_on_compress_batch(batches[batch_id])\n",
    "    batch_id = (batch_id + 1) % len(batches)\n",
    "    current_time = time.time() - begin\n",
    "    if batch_id % 30 == 0:\n",
    "     decoder_model.save('gdrive/My Drive/midi-vae-500/decoder_4000-500_{}.h5'.format(int(current_time)))\n",
    "     encoder_model.save('gdrive/My Drive/midi-vae-500/encoder_4000-500_{}.h5'.format(int(current_time)))\n",
    "     save_loss()\n",
    "    if current_time > max_time:\n",
    "      break\n",
    "    else:\n",
    "      out['x'].append(current_time)\n",
    "      out['y'].append(L[0].numpy())\n",
    "      out['y1'].append(L[1].numpy())\n",
    "      out['y2'].append(L[2].numpy())\n",
    "      losses_tests[name] = out\n",
    "      show_plots()\n",
    "\n",
    "test_fixed_batches(2 ** 13)\n",
    "#test_unfixed_batches(2 ** 10)\n",
    "#test_fixed_batches(2 ** 11)\n",
    "#test_unfixed_batches(2 ** 11)\n",
    "#test_fixed_batches(2 ** 12)\n",
    "#test_unfixed_batches(2 ** 12)\n",
    "#test_fixed_batches(2 ** 13)\n",
    "#test_unfixed_batches(2 ** 13)"
   ]
  },
  {
   "cell_type": "code",
   "execution_count": 0,
   "metadata": {
    "colab": {
     "base_uri": "https://localhost:8080/",
     "height": 537
    },
    "colab_type": "code",
    "executionInfo": {
     "elapsed": 3528,
     "status": "ok",
     "timestamp": 1588933067222,
     "user": {
      "displayName": "Vladimir Malinovskii",
      "photoUrl": "https://lh3.googleusercontent.com/a-/AOh14Gj688PP5GPUgcL6ZDNH-aCngIr_Bgzpk6rg4DMRpQ=s64",
      "userId": "09520690191727306440"
     },
     "user_tz": -180
    },
    "id": "XBik0wQO7L2x",
    "outputId": "e5e7a39c-e441-4e6d-b008-5a22681a5114"
   },
   "outputs": [
    {
     "data": {
      "image/png": "[encoded data removed]",
      "text/plain": [
       "<Figure size 2160x720 with 20 Axes>"
      ]
     },
     "metadata": {
      "needs_background": "light",
      "tags": []
     },
     "output_type": "display_data"
    }
   ],
   "source": [
    "def autoencode(x):\n",
    "  return decoder_model(encoder_model(x)[:,:latent_dim]).numpy()\n",
    "\n",
    "plt.figure(figsize=(30, 10))\n",
    "\n",
    "SHIFT = 600\n",
    "for _ in range(10):\n",
    "  plt.subplot(2, 10, 1 + _)\n",
    "  plt.imshow(autoencode(raw_test[SHIFT + _].reshape((-1, 96, 128)))[0].T > 0.5, cmap='gray')\n",
    "  plt.subplot(2, 10, 11 + _)\n",
    "  plt.imshow(raw_test[SHIFT + _].T, cmap='gray')"
   ]
  },
  {
   "cell_type": "code",
   "execution_count": 0,
   "metadata": {
    "colab": {
     "base_uri": "https://localhost:8080/",
     "height": 140
    },
    "colab_type": "code",
    "executionInfo": {
     "elapsed": 2685,
     "status": "ok",
     "timestamp": 1588885017592,
     "user": {
      "displayName": "Vladimir Malinovskii",
      "photoUrl": "https://lh3.googleusercontent.com/a-/AOh14Gj688PP5GPUgcL6ZDNH-aCngIr_Bgzpk6rg4DMRpQ=s64",
      "userId": "09520690191727306440"
     },
     "user_tz": -180
    },
    "id": "J1orUIX1aSfx",
    "outputId": "0432de2a-a82e-4e13-931c-cec0191e13c9"
   },
   "outputs": [
    {
     "data": {
      "image/png": "[encoded data removed]",
      "text/plain": [
       "<Figure size 2160x360 with 10 Axes>"
      ]
     },
     "metadata": {
      "needs_background": "light",
      "tags": []
     },
     "output_type": "display_data"
    }
   ],
   "source": [
    "plt.figure(figsize=(30, 5))\n",
    "TEST_ID_0 = 45\n",
    "TEST_ID_1 = 44\n",
    "v_0 = encoder_model(raw_test[TEST_ID_0].reshape(-1, 96, 128)).numpy().reshape(-1)[:latent_dim]\n",
    "v_1 = encoder_model(raw_test[TEST_ID_1].reshape(-1, 96, 128)).numpy().reshape(-1)[:latent_dim]\n",
    "\n",
    "out_melody = []\n",
    "for _ in range(10):\n",
    "  v = (v_0 * _ + v_1 * (9 - _)) / 9.\n",
    "  img = decoder_model(v.reshape(1, -1)).numpy().reshape(96, 128)\n",
    "  out_melody.append(img > 0.5)\n",
    "  plt.subplot(1, 10, 1 + _)\n",
    "  plt.imshow(img.T > 0.5, cmap='gray')\n",
    "out_melody = np.array(out_melody)"
   ]
  },
  {
   "cell_type": "code",
   "execution_count": 0,
   "metadata": {
    "colab": {
     "base_uri": "https://localhost:8080/",
     "height": 55
    },
    "colab_type": "code",
    "executionInfo": {
     "elapsed": 666,
     "status": "ok",
     "timestamp": 1589005107466,
     "user": {
      "displayName": "Vladimir Malinovskii",
      "photoUrl": "https://lh3.googleusercontent.com/a-/AOh14Gj688PP5GPUgcL6ZDNH-aCngIr_Bgzpk6rg4DMRpQ=s64",
      "userId": "09520690191727306440"
     },
     "user_tz": -180
    },
    "id": "B4fQJB2Ro0Hx",
    "outputId": "a120ef0c-fa64-4b73-ee8f-cf949ee392b2"
   },
   "outputs": [
    {
     "name": "stdout",
     "output_type": "stream",
     "text": [
      "Drive already mounted at /content/gdrive; to attempt to forcibly remount, call drive.mount(\"/content/gdrive\", force_remount=True).\n"
     ]
    }
   ],
   "source": [
    "from google.colab import drive\n",
    "drive.mount('/content/gdrive')"
   ]
  },
  {
   "cell_type": "code",
   "execution_count": 0,
   "metadata": {
    "colab": {},
    "colab_type": "code",
    "id": "2ajgt2CWpKPO"
   },
   "outputs": [],
   "source": [
    "v_space = encoder_model(raw_test).numpy()[:,:latent_dim]"
   ]
  },
  {
   "cell_type": "code",
   "execution_count": 0,
   "metadata": {
    "colab": {
     "base_uri": "https://localhost:8080/",
     "height": 513
    },
    "colab_type": "code",
    "executionInfo": {
     "elapsed": 949,
     "status": "ok",
     "timestamp": 1589005853521,
     "user": {
      "displayName": "Vladimir Malinovskii",
      "photoUrl": "https://lh3.googleusercontent.com/a-/AOh14Gj688PP5GPUgcL6ZDNH-aCngIr_Bgzpk6rg4DMRpQ=s64",
      "userId": "09520690191727306440"
     },
     "user_tz": -180
    },
    "id": "xwZYDh9FpTHG",
    "outputId": "fb32c803-53d6-43c2-ff64-a6c9d00b39df"
   },
   "outputs": [
    {
     "data": {
      "image/png": "[encoded data removed]",
      "text/plain": [
       "<Figure size 432x288 with 1 Axes>"
      ]
     },
     "metadata": {
      "needs_background": "light",
      "tags": []
     },
     "output_type": "display_data"
    },
    {
     "data": {
      "image/png": "[encoded data removed]",
      "text/plain": [
       "<Figure size 432x288 with 1 Axes>"
      ]
     },
     "metadata": {
      "needs_background": "light",
      "tags": []
     },
     "output_type": "display_data"
    }
   ],
   "source": [
    "plt.plot(sorted(list(np.mean(v_space, axis=0))))\n",
    "plt.show()\n",
    "plt.plot(sorted(list(np.mean((v_space - mean_value_encoder_final) * (v_space - mean_value_encoder_final), axis=0))))\n",
    "plt.show()"
   ]
  },
  {
   "cell_type": "code",
   "execution_count": 0,
   "metadata": {
    "colab": {
     "base_uri": "https://localhost:8080/",
     "height": 73
    },
    "colab_type": "code",
    "executionInfo": {
     "elapsed": 1286,
     "status": "ok",
     "timestamp": 1589008289777,
     "user": {
      "displayName": "Vladimir Malinovskii",
      "photoUrl": "https://lh3.googleusercontent.com/a-/AOh14Gj688PP5GPUgcL6ZDNH-aCngIr_Bgzpk6rg4DMRpQ=s64",
      "userId": "09520690191727306440"
     },
     "user_tz": -180
    },
    "id": "dehQBL3cKOg_",
    "outputId": "48e8090b-295c-49ac-c6c1-22186cfbbffd"
   },
   "outputs": [
    {
     "name": "stdout",
     "output_type": "stream",
     "text": [
      "WARNING:tensorflow:No training configuration found in the save file, so the model was *not* compiled. Compile it manually.\n",
      "WARNING:tensorflow:No training configuration found in the save file, so the model was *not* compiled. Compile it manually.\n"
     ]
    }
   ],
   "source": [
    "decoder_model = load_model('gdrive/My Drive/midi-vae-500/decoder_4000-500_73845.h5')\n",
    "encoder_model = load_model('gdrive/My Drive/midi-vae-500/encoder_4000-500_73845.h5')"
   ]
  },
  {
   "cell_type": "code",
   "execution_count": 0,
   "metadata": {
    "colab": {},
    "colab_type": "code",
    "id": "QQn1hMaRSBLH"
   },
   "outputs": [],
   "source": [
    "!mv gdrive/My\\ Drive/midi-vae-500/decoder_4000-500_73845.h5 gdrive/My\\ Drive/midi-vae-4-lstm\n",
    "!mv gdrive/My\\ Drive/midi-vae-500/encoder_4000-500_73845.h5 gdrive/My\\ Drive/midi-vae-4-lstm"
   ]
  },
  {
   "cell_type": "code",
   "execution_count": 0,
   "metadata": {
    "colab": {},
    "colab_type": "code",
    "id": "eiYhBbBxSR9s"
   },
   "outputs": [],
   "source": []
  },
  {
   "cell_type": "code",
   "execution_count": 0,
   "metadata": {
    "colab": {},
    "colab_type": "code",
    "id": "mYwp_zIzHz9N"
   },
   "outputs": [],
   "source": [
    "mean_value_encoder_final = np.mean(v_space, axis=0)\n",
    "sigmas_value_encoder_final = np.sqrt(np.mean((v_space - mean_value_encoder_final) * (v_space - mean_value_encoder_final), axis=0))"
   ]
  },
  {
   "cell_type": "code",
   "execution_count": 0,
   "metadata": {
    "colab": {},
    "colab_type": "code",
    "id": "uBKZA-ZuJKYT"
   },
   "outputs": [],
   "source": [
    "np.save('gdrive/My Drive/midi-vae-500/mean_value_encoder_final', mean_value_encoder_final)\n",
    "np.save('gdrive/My Drive/midi-vae-500/sigmas_value_encoder_final', sigmas_value_encoder_final)"
   ]
  },
  {
   "cell_type": "code",
   "execution_count": 0,
   "metadata": {
    "colab": {
     "base_uri": "https://localhost:8080/",
     "height": 35
    },
    "colab_type": "code",
    "executionInfo": {
     "elapsed": 613,
     "status": "ok",
     "timestamp": 1589005987574,
     "user": {
      "displayName": "Vladimir Malinovskii",
      "photoUrl": "https://lh3.googleusercontent.com/a-/AOh14Gj688PP5GPUgcL6ZDNH-aCngIr_Bgzpk6rg4DMRpQ=s64",
      "userId": "09520690191727306440"
     },
     "user_tz": -180
    },
    "id": "lAEfOb7EIwT3",
    "outputId": "fd0ae488-ab65-47e5-ecf0-9536184bb38f"
   },
   "outputs": [
    {
     "name": "stdout",
     "output_type": "stream",
     "text": [
      "(500,) (500,)\n"
     ]
    }
   ],
   "source": [
    "print(mean_value_encoder_final.shape, sigmas_value_encoder_final.shape)"
   ]
  },
  {
   "cell_type": "code",
   "execution_count": 0,
   "metadata": {
    "colab": {
     "base_uri": "https://localhost:8080/",
     "height": 283
    },
    "colab_type": "code",
    "executionInfo": {
     "elapsed": 662,
     "status": "ok",
     "timestamp": 1589005887258,
     "user": {
      "displayName": "Vladimir Malinovskii",
      "photoUrl": "https://lh3.googleusercontent.com/a-/AOh14Gj688PP5GPUgcL6ZDNH-aCngIr_Bgzpk6rg4DMRpQ=s64",
      "userId": "09520690191727306440"
     },
     "user_tz": -180
    },
    "id": "S1ecl0J8IWlm",
    "outputId": "85ff6120-2489-45e4-f2ee-9d9064437757"
   },
   "outputs": [
    {
     "data": {
      "text/plain": [
       "[<matplotlib.lines.Line2D at 0x7f670aec04e0>]"
      ]
     },
     "execution_count": 47,
     "metadata": {
      "tags": []
     },
     "output_type": "execute_result"
    },
    {
     "data": {
      "image/png": "[encoded data removed]",
      "text/plain": [
       "<Figure size 432x288 with 1 Axes>"
      ]
     },
     "metadata": {
      "needs_background": "light",
      "tags": []
     },
     "output_type": "display_data"
    }
   ],
   "source": [
    "plt.plot(sorted(sigmas_value_encoder_final))"
   ]
  },
  {
   "cell_type": "code",
   "execution_count": 0,
   "metadata": {
    "colab": {},
    "colab_type": "code",
    "id": "85J5CZFdVcp2"
   },
   "outputs": [],
   "source": [
    "#!mkdir -p gdrive/My\\ Drive/vae-models\n",
    "#print(losses_tests[list(losses_tests.keys())[0]]['x'][-1])\n",
    "#decoder_model.save('gdrive/My Drive/vae-models/decoder_32k_2000-200.h5')\n",
    "#encoder_model.save('gdrive/My Drive/vae-models/encoder_32k_2000-200.h5')"
   ]
  },
  {
   "cell_type": "code",
   "execution_count": 0,
   "metadata": {
    "colab": {},
    "colab_type": "code",
    "id": "yc6vNuc4SydJ"
   },
   "outputs": [],
   "source": [
    "!pip install pypianoroll\n",
    "import pypianoroll as ppr"
   ]
  },
  {
   "cell_type": "code",
   "execution_count": 0,
   "metadata": {
    "colab": {},
    "colab_type": "code",
    "id": "ZknTj_V_S4ba"
   },
   "outputs": [],
   "source": [
    "ppr.Multitrack(tempo=80, tracks=[ppr.Track(pianoroll=out_melody.reshape(-1, 128) * 100)]).write('/content/gdrive/My Drive/midi-final-res/{0}.mid'.format('test'))"
   ]
  }
 ],
 "metadata": {
  "accelerator": "GPU",
  "colab": {
   "authorship_tag": "ABX9TyOPGWn0CDnUgcAnRfPb4Gl3",
   "collapsed_sections": [],
   "machine_shape": "hm",
   "name": "vae-midi-2.ipynb",
   "provenance": []
  },
  "kernelspec": {
   "display_name": "Python 3",
   "language": "python",
   "name": "python3"
  },
  "language_info": {
   "codemirror_mode": {
    "name": "ipython",
    "version": 3
   },
   "file_extension": ".py",
   "mimetype": "text/x-python",
   "name": "python",
   "nbconvert_exporter": "python",
   "pygments_lexer": "ipython3",
   "version": "3.9.2"
  }
 },
 "nbformat": 4,
 "nbformat_minor": 1
}
