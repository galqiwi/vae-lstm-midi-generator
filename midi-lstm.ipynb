{
 "cells": [
  {
   "cell_type": "code",
   "execution_count": 1,
   "metadata": {
    "colab": {
     "base_uri": "https://localhost:8080/",
     "height": 243
    },
    "colab_type": "code",
    "executionInfo": {
     "elapsed": 24851,
     "status": "ok",
     "timestamp": 1589250543666,
     "user": {
      "displayName": "Vladimir Malinovskii",
      "photoUrl": "https://lh3.googleusercontent.com/a-/AOh14Gj688PP5GPUgcL6ZDNH-aCngIr_Bgzpk6rg4DMRpQ=s64",
      "userId": "09520690191727306440"
     },
     "user_tz": -180
    },
    "id": "AA-ooA_Tkk_M",
    "outputId": "5e1a1b4a-e816-4237-fb95-c84bb4aa3a91"
   },
   "outputs": [
    {
     "name": "stderr",
     "output_type": "stream",
     "text": [
      "/usr/local/lib/python3.6/dist-packages/ipykernel_launcher.py:14: TqdmExperimentalWarning: Using `tqdm.autonotebook.tqdm` in notebook mode. Use `tqdm.tqdm` instead to force console mode (e.g. in jupyter console)\n",
      "  \n"
     ]
    },
    {
     "name": "stdout",
     "output_type": "stream",
     "text": [
      "--2020-05-12 02:28:42--  https://big.galqiwi.ru/toshare/dataset.json\n",
      "Resolving big.galqiwi.ru (big.galqiwi.ru)... 185.5.248.186\n",
      "Connecting to big.galqiwi.ru (big.galqiwi.ru)|185.5.248.186|:443... connected.\n",
      "HTTP request sent, awaiting response... 200 OK\n",
      "Length: 152073197 (145M) [application/json]\n",
      "Saving to: ‘dataset.json’\n",
      "\n",
      "dataset.json        100%[===================>] 145.03M  9.79MB/s    in 16s     \n",
      "\n",
      "2020-05-12 02:29:01 (8.84 MB/s) - ‘dataset.json’ saved [152073197/152073197]\n",
      "\n"
     ]
    }
   ],
   "source": [
    "%tensorflow_version 2.x\n",
    "import tensorflow as tf\n",
    "from tensorflow.keras.layers import Input, Dense, Conv2D, MaxPooling2D, UpSampling2D, Dense, Flatten, Reshape, LSTM, Conv2DTranspose\n",
    "from tensorflow.keras.models import Model, load_model\n",
    "from tensorflow.keras import backend as K\n",
    "import numpy as np\n",
    "from tensorflow.keras.datasets import mnist\n",
    "import matplotlib.pyplot as plt\n",
    "%matplotlib inline\n",
    "from PIL import Image, ImageDraw\n",
    "import os\n",
    "from os.path import join\n",
    "from IPython.display import clear_output\n",
    "from tqdm.autonotebook import tqdm\n",
    "import gc\n",
    "import time\n",
    "import json\n",
    "import multiprocessing\n",
    "gpu = tf.config.experimental.list_physical_devices('GPU')[0]\n",
    "tf.config.experimental_run_functions_eagerly(True)\n",
    "!wget https://big.galqiwi.ru/toshare/dataset.json"
   ]
  },
  {
   "cell_type": "code",
   "execution_count": 0,
   "metadata": {
    "colab": {},
    "colab_type": "code",
    "id": "Wg2IGU9zMYP5"
   },
   "outputs": [],
   "source": [
    "loss = list(np.load('/content/gdrive/My Drive/midi-vae-4-lstm/lstm-2-dir/loss.npy'))"
   ]
  },
  {
   "cell_type": "code",
   "execution_count": 7,
   "metadata": {
    "colab": {
     "base_uri": "https://localhost:8080/",
     "height": 282
    },
    "colab_type": "code",
    "executionInfo": {
     "elapsed": 9198,
     "status": "ok",
     "timestamp": 1589250887408,
     "user": {
      "displayName": "Vladimir Malinovskii",
      "photoUrl": "https://lh3.googleusercontent.com/a-/AOh14Gj688PP5GPUgcL6ZDNH-aCngIr_Bgzpk6rg4DMRpQ=s64",
      "userId": "09520690191727306440"
     },
     "user_tz": -180
    },
    "id": "u3Hd-OFxMvRi",
    "outputId": "0f0974b3-ac4e-4c72-b1d2-544b3969831b"
   },
   "outputs": [
    {
     "data": {
      "text/plain": [
       "[<matplotlib.lines.Line2D at 0x7ff66fc5bdd8>]"
      ]
     },
     "execution_count": 7,
     "metadata": {
      "tags": []
     },
     "output_type": "execute_result"
    },
    {
     "data": {
      "image/png": "[encoded data removed]",
      "text/plain": [
       "<Figure size 432x288 with 1 Axes>"
      ]
     },
     "metadata": {
      "needs_background": "light",
      "tags": []
     },
     "output_type": "display_data"
    }
   ],
   "source": [
    "plt.plot(loss)"
   ]
  },
  {
   "cell_type": "code",
   "execution_count": 5,
   "metadata": {
    "colab": {
     "base_uri": "https://localhost:8080/",
     "height": 124
    },
    "colab_type": "code",
    "executionInfo": {
     "elapsed": 22541,
     "status": "ok",
     "timestamp": 1589250884212,
     "user": {
      "displayName": "Vladimir Malinovskii",
      "photoUrl": "https://lh3.googleusercontent.com/a-/AOh14Gj688PP5GPUgcL6ZDNH-aCngIr_Bgzpk6rg4DMRpQ=s64",
      "userId": "09520690191727306440"
     },
     "user_tz": -180
    },
    "id": "ZkL_DFuqo_yF",
    "outputId": "97437dc1-a005-4717-e826-b59291d7c98a"
   },
   "outputs": [
    {
     "name": "stdout",
     "output_type": "stream",
     "text": [
      "Go to this URL in a browser: https://accounts.google.com/o/oauth2/auth?client_id=947318989803-6bn6qk8qdgf4n4g3pfee6491hc0brc4i.apps.googleusercontent.com&redirect_uri=urn%3aietf%3awg%3aoauth%3a2.0%3aoob&response_type=code&scope=email%20https%3a%2f%2fwww.googleapis.com%2fauth%2fdocs.test%20https%3a%2f%2fwww.googleapis.com%2fauth%2fdrive%20https%3a%2f%2fwww.googleapis.com%2fauth%2fdrive.photos.readonly%20https%3a%2f%2fwww.googleapis.com%2fauth%2fpeopleapi.readonly\n",
      "\n",
      "Enter your authorization code:\n",
      "··········\n",
      "Mounted at /content/gdrive\n"
     ]
    }
   ],
   "source": [
    "from google.colab import drive\n",
    "drive.mount('/content/gdrive')"
   ]
  },
  {
   "cell_type": "code",
   "execution_count": 0,
   "metadata": {
    "colab": {},
    "colab_type": "code",
    "id": "OCTkyX5RJfY9"
   },
   "outputs": [],
   "source": [
    "#@title model matrix distribution\n",
    "mean_value_dist = np.load('gdrive/My Drive/midi-vae-4-lstm/mean_value_dist.npy')\n",
    "sigm_value_dist = np.load('gdrive/My Drive/midi-vae-4-lstm/sigm_value_dist.npy')"
   ]
  },
  {
   "cell_type": "code",
   "execution_count": 0,
   "metadata": {
    "colab": {},
    "colab_type": "code",
    "id": "MgU4wCqIqSa4"
   },
   "outputs": [],
   "source": [
    "def encoded_to_norm(v):\n",
    "  return (v - mean_value_dist) / sigm_value_dist / 4\n",
    "\n",
    "def norm_to_encoded(v):\n",
    "  return v * 4 * sigm_value_dist + mean_value_dist"
   ]
  },
  {
   "cell_type": "code",
   "execution_count": 10,
   "metadata": {
    "cellView": "both",
    "colab": {
     "base_uri": "https://localhost:8080/",
     "height": 330
    },
    "colab_type": "code",
    "executionInfo": {
     "elapsed": 33907,
     "status": "ok",
     "timestamp": 1589250914871,
     "user": {
      "displayName": "Vladimir Malinovskii",
      "photoUrl": "https://lh3.googleusercontent.com/a-/AOh14Gj688PP5GPUgcL6ZDNH-aCngIr_Bgzpk6rg4DMRpQ=s64",
      "userId": "09520690191727306440"
     },
     "user_tz": -180
    },
    "id": "qApJ7KhykpOJ",
    "outputId": "453dd268-22a7-4460-c8bf-67475c402320"
   },
   "outputs": [
    {
     "name": "stdout",
     "output_type": "stream",
     "text": [
      "WARNING:tensorflow:No training configuration found in the save file, so the model was *not* compiled. Compile it manually.\n",
      "WARNING:tensorflow:No training configuration found in the save file, so the model was *not* compiled. Compile it manually.\n",
      "Model: \"sequential\"\n",
      "_________________________________________________________________\n",
      "Layer (type)                 Output Shape              Param #   \n",
      "=================================================================\n",
      "dense (Dense)                (None, None, 500)         250500    \n",
      "_________________________________________________________________\n",
      "lstm (LSTM)                  (None, None, 1024)        6246400   \n",
      "_________________________________________________________________\n",
      "lstm_1 (LSTM)                (None, None, 1024)        8392704   \n",
      "_________________________________________________________________\n",
      "dense_1 (Dense)              (None, None, 500)         512500    \n",
      "=================================================================\n",
      "Total params: 15,402,104\n",
      "Trainable params: 15,402,104\n",
      "Non-trainable params: 0\n",
      "_________________________________________________________________\n"
     ]
    }
   ],
   "source": [
    "#@title Model\n",
    "decoder_model = load_model('gdrive/My Drive/midi-vae-4-lstm/decoder_4000-500_73845.h5')\n",
    "encoder_model = load_model('gdrive/My Drive/midi-vae-4-lstm/encoder_4000-500_73845.h5')\n",
    "latent_dim = 500\n",
    "def model_reset():\n",
    "  global model\n",
    "  model = tf.keras.Sequential()\n",
    "  model.add(Dense(latent_dim, activation='relu', input_shape=(None, latent_dim)))\n",
    "  model.add(LSTM((1024), return_sequences = True))\n",
    "  model.add(LSTM((1024), return_sequences = True))\n",
    "  model.add(Dense(latent_dim, activation='tanh'))\n",
    "model_reset()\n",
    "model.summary()"
   ]
  },
  {
   "cell_type": "code",
   "execution_count": 0,
   "metadata": {
    "colab": {},
    "colab_type": "code",
    "id": "TMpnr4H_lgmQ"
   },
   "outputs": [],
   "source": [
    "def data_compressed_2_data(data_compressed, frame):\n",
    "  for key in data_compressed:\n",
    "    for press in data_compressed[key]:\n",
    "      for _ in range(press[0], press[1]):\n",
    "        frame[_][int(key)] = 1"
   ]
  },
  {
   "cell_type": "code",
   "execution_count": 12,
   "metadata": {
    "cellView": "both",
    "colab": {
     "base_uri": "https://localhost:8080/",
     "height": 265
    },
    "colab_type": "code",
    "executionInfo": {
     "elapsed": 42080,
     "status": "ok",
     "timestamp": 1589250925570,
     "user": {
      "displayName": "Vladimir Malinovskii",
      "photoUrl": "https://lh3.googleusercontent.com/a-/AOh14Gj688PP5GPUgcL6ZDNH-aCngIr_Bgzpk6rg4DMRpQ=s64",
      "userId": "09520690191727306440"
     },
     "user_tz": -180
    },
    "id": "V4Ekvip1l_21",
    "outputId": "08c9b77f-6d73-423c-f9ae-23bd2e9da6c4"
   },
   "outputs": [
    {
     "data": {
      "image/png": "[encoded data removed]",
      "text/plain": [
       "<Figure size 432x288 with 1 Axes>"
      ]
     },
     "metadata": {
      "needs_background": "light",
      "tags": []
     },
     "output_type": "display_data"
    }
   ],
   "source": [
    "#@title init music_compressed\n",
    "with open('dataset.json', 'r') as file:\n",
    "  music_compressed_unfolded = json.load(file)\n",
    "_ = []\n",
    "music_compressed = []\n",
    "for frame in music_compressed_unfolded:\n",
    "  if frame is None:\n",
    "    while len(_) >= 100:\n",
    "      music_compressed.append(_[:100])\n",
    "      _ = _[100:]\n",
    "    _ = []\n",
    "  else:\n",
    "    _.append(frame)\n",
    "music_compressed_test = music_compressed[-50:]\n",
    "music_compressed = music_compressed[:-50]\n",
    "plt.plot([len(_) for _ in music_compressed])\n",
    "plt.show()"
   ]
  },
  {
   "cell_type": "code",
   "execution_count": 13,
   "metadata": {
    "cellView": "both",
    "colab": {
     "base_uri": "https://localhost:8080/",
     "height": 214
    },
    "colab_type": "code",
    "executionInfo": {
     "elapsed": 42565,
     "status": "ok",
     "timestamp": 1589250928108,
     "user": {
      "displayName": "Vladimir Malinovskii",
      "photoUrl": "https://lh3.googleusercontent.com/a-/AOh14Gj688PP5GPUgcL6ZDNH-aCngIr_Bgzpk6rg4DMRpQ=s64",
      "userId": "09520690191727306440"
     },
     "user_tz": -180
    },
    "id": "hC9nhZBgnKZj",
    "outputId": "e0b01483-4365-46c7-b062-e7fafef43eb7"
   },
   "outputs": [
    {
     "data": {
      "image/png": "[encoded data removed]",
      "text/plain": [
       "<Figure size 2160x216 with 10 Axes>"
      ]
     },
     "metadata": {
      "needs_background": "light",
      "tags": []
     },
     "output_type": "display_data"
    }
   ],
   "source": [
    "#@title test song\n",
    "test_song = np.zeros((100, 96, 128))\n",
    "for _ in range(100):\n",
    "  data_compressed_2_data(music_compressed[-2][_], test_song[_])\n",
    "plt.figure(figsize=(30, 3))\n",
    "for _ in range(10):\n",
    "  plt.subplot(1, 10, _ + 1)\n",
    "  plt.imshow(test_song[_].T, cmap='gray')\n",
    "plt.show()\n",
    "test_song_encoded = encoded_to_norm(encoder_model(test_song).numpy()[:,:latent_dim])"
   ]
  },
  {
   "cell_type": "code",
   "execution_count": 14,
   "metadata": {
    "colab": {
     "base_uri": "https://localhost:8080/",
     "height": 84,
     "referenced_widgets": [
      "beac21b65f6540a29ac81c7f2dac4545",
      "bcfa839c6a284374a2f693c835e2a880",
      "977e5387cbfd4fe58a55c8dc0be8c11d",
      "3aa6f41157c646e698caf3db5559bcab",
      "93afdc6aad4242d4b9c0c90d73fada9e",
      "38ced9a9ca2249b38cd32029c812cc20",
      "4af818e2095e4fa49a169d989cf5dd5a",
      "6bd3c9e7dcb94904a1c8fda0fed064f6"
     ]
    },
    "colab_type": "code",
    "executionInfo": {
     "elapsed": 107139,
     "status": "ok",
     "timestamp": 1589250994473,
     "user": {
      "displayName": "Vladimir Malinovskii",
      "photoUrl": "https://lh3.googleusercontent.com/a-/AOh14Gj688PP5GPUgcL6ZDNH-aCngIr_Bgzpk6rg4DMRpQ=s64",
      "userId": "09520690191727306440"
     },
     "user_tz": -180
    },
    "id": "w4Vtnr7wr3eO",
    "outputId": "59a24c6e-55ad-49e8-a902-d0604432191d"
   },
   "outputs": [
    {
     "data": {
      "application/vnd.jupyter.widget-view+json": {
       "model_id": "beac21b65f6540a29ac81c7f2dac4545",
       "version_major": 2,
       "version_minor": 0
      },
      "text/plain": [
       "HBox(children=(FloatProgress(value=0.0, max=35.0), HTML(value='')))"
      ]
     },
     "metadata": {
      "tags": []
     },
     "output_type": "display_data"
    },
    {
     "name": "stdout",
     "output_type": "stream",
     "text": [
      "\n",
      "-15.915852 8.847335\n"
     ]
    }
   ],
   "source": [
    "#@title do not exec\n",
    "max_value = min_value = 0\n",
    "for _ in tqdm(range(len(music_compressed) // 100)):\n",
    "  buffer = np.zeros((10000, 96, 128))\n",
    "  for __ in range(100 * 100):\n",
    "    data_compressed_2_data(music_compressed[_ * 100 + __ // 100][__ % 100], buffer[__])\n",
    "  encoded_buffer = encoder_model(buffer).numpy()\n",
    "  max_value = max(max_value, np.max(encoded_buffer))\n",
    "  min_value = min(min_value, np.min(encoded_buffer))\n",
    "buffer = None\n",
    "encoded_buffer = None\n",
    "gc.collect()\n",
    "print(min_value, max_value)"
   ]
  },
  {
   "cell_type": "code",
   "execution_count": 0,
   "metadata": {
    "colab": {
     "base_uri": "https://localhost:8080/",
     "height": 84,
     "referenced_widgets": [
      "437dc94c0da24201b74d180ed49a30b4",
      "8c95e1bebd944d37ae4894557e4a3c1e",
      "5826571289224afe937b0aa28bdd8922",
      "2ba2977b31484c7486f9463daec9a9da",
      "3617c7bed98f419788a168172fb671c5",
      "453b78caf5c34edf9b722b165fce5f83",
      "12dd090f7f0a4df5b04aad2b318fe897",
      "282ff940ce894318aa5875906aa33d6a"
     ]
    },
    "colab_type": "code",
    "executionInfo": {
     "elapsed": 78613,
     "status": "ok",
     "timestamp": 1589180262235,
     "user": {
      "displayName": "Vladimir Malinovskii",
      "photoUrl": "https://lh3.googleusercontent.com/a-/AOh14Gj688PP5GPUgcL6ZDNH-aCngIr_Bgzpk6rg4DMRpQ=s64",
      "userId": "09520690191727306440"
     },
     "user_tz": -180
    },
    "id": "unPuX-eHrD-P",
    "outputId": "08adc7c8-8c98-4003-f280-84de6c376ece"
   },
   "outputs": [
    {
     "data": {
      "application/vnd.jupyter.widget-view+json": {
       "model_id": "437dc94c0da24201b74d180ed49a30b4",
       "version_major": 2,
       "version_minor": 0
      },
      "text/plain": [
       "HBox(children=(FloatProgress(value=0.0, max=35.0), HTML(value='')))"
      ]
     },
     "metadata": {
      "tags": []
     },
     "output_type": "display_data"
    },
    {
     "name": "stdout",
     "output_type": "stream",
     "text": [
      "\n"
     ]
    },
    {
     "data": {
      "text/plain": [
       "23929"
      ]
     },
     "execution_count": 14,
     "metadata": {
      "tags": []
     },
     "output_type": "execute_result"
    }
   ],
   "source": [
    "music_encoded_list = []\n",
    "for _ in tqdm(range(len(music_compressed) // 100)):\n",
    "  buffer = np.zeros((100 * 100, 96, 128))\n",
    "  for __ in range(100 * 100):\n",
    "    data_compressed_2_data(music_compressed[_ * 100 + __ // 100][__ % 100], buffer[__])\n",
    "  buffer_encoded = encoder_model(buffer).numpy().reshape(100, 100, latent_dim * 2)[:,:,:latent_dim]\n",
    "  music_encoded_list.append(buffer_encoded)\n",
    "music_encoded = encoded_to_norm(np.array(music_encoded_list).reshape(-1, 100, latent_dim))\n",
    "\n",
    "music_encoded_list = None\n",
    "buffer = None\n",
    "buffer_encoded = None\n",
    "gc.collect()"
   ]
  },
  {
   "cell_type": "code",
   "execution_count": 0,
   "metadata": {
    "colab": {
     "base_uri": "https://localhost:8080/",
     "height": 34
    },
    "colab_type": "code",
    "executionInfo": {
     "elapsed": 78605,
     "status": "ok",
     "timestamp": 1589180262239,
     "user": {
      "displayName": "Vladimir Malinovskii",
      "photoUrl": "https://lh3.googleusercontent.com/a-/AOh14Gj688PP5GPUgcL6ZDNH-aCngIr_Bgzpk6rg4DMRpQ=s64",
      "userId": "09520690191727306440"
     },
     "user_tz": -180
    },
    "id": "osyZErgltz7D",
    "outputId": "c4994c7c-4121-479b-b52c-7df7b6860251"
   },
   "outputs": [
    {
     "data": {
      "text/plain": [
       "0.9959567785263062"
      ]
     },
     "execution_count": 15,
     "metadata": {
      "tags": []
     },
     "output_type": "execute_result"
    }
   ],
   "source": [
    "np.sqrt(np.mean(music_encoded * music_encoded)) * 4"
   ]
  },
  {
   "cell_type": "code",
   "execution_count": 0,
   "metadata": {
    "colab": {},
    "colab_type": "code",
    "id": "1tXBgX8_oaSz"
   },
   "outputs": [],
   "source": [
    "@tf.function\n",
    "def learning_step(batch):\n",
    "  with tf.GradientTape() as tape:\n",
    "    tv = model.trainable_variables\n",
    "    L = tf.reduce_mean(tf.keras.losses.MAE(model(batch[:,:-1]), batch[:,1:]))\n",
    "  grad = tape.gradient(L, tv)\n",
    "  opt.apply_gradients(zip(grad, tv))\n",
    "  return L\n",
    "\n",
    "\n",
    "@tf.function\n",
    "def learning_step_on_compressed_batch_step(buffer, encoded_batch):\n",
    "  with tf.GradientTape() as tape:\n",
    "    tv = model.trainable_variables\n",
    "    out_encoded = norm_to_encoded(model(encoded_batch[:,:-1]))\n",
    "    out_encoded = tf.reshape(out_encoded, (-1, latent_dim))\n",
    "    out_buffer = decoder_model(out_encoded)\n",
    "    out_buffer = tf.reshape(out_buffer, (-1, 99, 96, 128))\n",
    "    L = tf.reduce_mean(tf.keras.losses.binary_crossentropy(buffer[:,1:], out_buffer))\n",
    "  grad = tape.gradient(L, tv)\n",
    "  opt.apply_gradients(zip(grad, tv))\n",
    "  return L\n",
    "\n",
    "def learning_step_on_compressed_batch(compressed_batch, encoded_batch):\n",
    "  begin = time.time()\n",
    "  buffer = np.zeros((len(compressed_batch), 100, 96, 128))\n",
    "  for _ in range(100 * len(compressed_batch)):\n",
    "    data_compressed_2_data(compressed_batch[_ // 100][_ % 100], buffer[_ // 100][_ % 100])\n",
    "  T0 = time.time() - begin\n",
    "  L = learning_step_on_compressed_batch_step(buffer, encoded_batch)\n",
    "  T1 = time.time() - begin - T0\n",
    "  return L, T0, T1\n"
   ]
  },
  {
   "cell_type": "code",
   "execution_count": 0,
   "metadata": {
    "colab": {},
    "colab_type": "code",
    "id": "ECfc39bT79cn"
   },
   "outputs": [],
   "source": [
    "opt = tf.keras.optimizers.SGD(learning_rate=0.05, momentum=0.9)"
   ]
  },
  {
   "cell_type": "code",
   "execution_count": 0,
   "metadata": {
    "colab": {},
    "colab_type": "code",
    "id": "eKDBCuLAJbNT"
   },
   "outputs": [],
   "source": [
    "opt = tf.keras.optimizers.Adam()"
   ]
  },
  {
   "cell_type": "code",
   "execution_count": 0,
   "metadata": {
    "colab": {
     "base_uri": "https://localhost:8080/",
     "height": 34
    },
    "colab_type": "code",
    "executionInfo": {
     "elapsed": 2216,
     "status": "ok",
     "timestamp": 1589180282282,
     "user": {
      "displayName": "Vladimir Malinovskii",
      "photoUrl": "https://lh3.googleusercontent.com/a-/AOh14Gj688PP5GPUgcL6ZDNH-aCngIr_Bgzpk6rg4DMRpQ=s64",
      "userId": "09520690191727306440"
     },
     "user_tz": -180
    },
    "id": "rGRQfxNPw94D",
    "outputId": "c840055c-4004-489e-fc00-bb5a6146702d"
   },
   "outputs": [
    {
     "data": {
      "text/plain": [
       "-3.518937"
      ]
     },
     "execution_count": 19,
     "metadata": {
      "tags": []
     },
     "output_type": "execute_result"
    }
   ],
   "source": [
    "np.min(music_encoded)"
   ]
  },
  {
   "cell_type": "code",
   "execution_count": 0,
   "metadata": {
    "colab": {},
    "colab_type": "code",
    "id": "KBSvcIWewKOs"
   },
   "outputs": [],
   "source": [
    "encoder_model.summary()\n",
    "model.summary()\n",
    "decoder_model.summary()"
   ]
  },
  {
   "cell_type": "code",
   "execution_count": 0,
   "metadata": {
    "colab": {
     "base_uri": "https://localhost:8080/",
     "height": 34
    },
    "colab_type": "code",
    "executionInfo": {
     "elapsed": 3395,
     "status": "ok",
     "timestamp": 1589180461773,
     "user": {
      "displayName": "Vladimir Malinovskii",
      "photoUrl": "https://lh3.googleusercontent.com/a-/AOh14Gj688PP5GPUgcL6ZDNH-aCngIr_Bgzpk6rg4DMRpQ=s64",
      "userId": "09520690191727306440"
     },
     "user_tz": -180
    },
    "id": "6xA1ObVNhVuc",
    "outputId": "4f3f95ad-1d47-4d3d-bc05-4f5bf29880d2"
   },
   "outputs": [
    {
     "name": "stdout",
     "output_type": "stream",
     "text": [
      "WARNING:tensorflow:No training configuration found in the save file, so the model was *not* compiled. Compile it manually.\n"
     ]
    }
   ],
   "source": [
    "model = load_model('/content/gdrive/My Drive/midi-vae-4-lstm/lstm-2-dir/model_1020.h5')"
   ]
  },
  {
   "cell_type": "code",
   "execution_count": 0,
   "metadata": {
    "colab": {
     "base_uri": "https://localhost:8080/",
     "height": 282
    },
    "colab_type": "code",
    "executionInfo": {
     "elapsed": 238720,
     "status": "error",
     "timestamp": 1588674717395,
     "user": {
      "displayName": "Vladimir Malinovskii",
      "photoUrl": "https://lh3.googleusercontent.com/a-/AOh14Gj688PP5GPUgcL6ZDNH-aCngIr_Bgzpk6rg4DMRpQ=s64",
      "userId": "09520690191727306440"
     },
     "user_tz": -180
    },
    "id": "_lQrTSJaoqQQ",
    "outputId": "42bb5031-fd6b-410c-dc78-883a3c2468eb"
   },
   "outputs": [
    {
     "data": {
      "image/png": "[encoded data removed]",
      "text/plain": [
       "<Figure size 432x288 with 1 Axes>"
      ]
     },
     "metadata": {
      "needs_background": "light",
      "tags": []
     },
     "output_type": "display_data"
    },
    {
     "name": "stdout",
     "output_type": "stream",
     "text": [
      "63.47046603984054\n"
     ]
    }
   ],
   "source": [
    "# loss = []\n",
    "# model_reset()\n",
    "# batch_id = 0\n",
    "# time_stat = []\n",
    "while True:\n",
    "  #if (len(loss) == 500):\n",
    "  #  opt = tf.keras.optimizers.SGD(learning_rate=0.05, momentum=0.9)\n",
    "  #L = learning_step(music_encoded[batch_id:batch_id + 64])\n",
    "  begin = time.time()\n",
    "  L, T0, T1 = learning_step_on_compressed_batch(music_compressed[batch_id:batch_id + 64], music_encoded[batch_id:batch_id + 64])\n",
    "  #print(T0, T1)\n",
    "  time_stat.append(time.time() - begin)\n",
    "  if batch_id == 0:\n",
    "    loss.append(L)\n",
    "    if len(loss) % 5 == 0:\n",
    "      np.save('/content/gdrive/My Drive/midi-vae-4-lstm/lstm-2-dir/loss', np.array(loss))\n",
    "      model.save('/content/gdrive/My Drive/midi-vae-4-lstm/lstm-2-dir/model_{}.h5'.format(len(loss))) #50ms to do\n",
    "    plt.yscale('log')\n",
    "    plt.plot(loss[:])\n",
    "    clear_output(True)\n",
    "    plt.show()\n",
    "    print(np.mean(np.array(time_stat)) * (len(music_encoded) // 64))\n",
    "  \n",
    "  batch_id += 64\n",
    "  if batch_id + 64 > len(music_encoded):\n",
    "    batch_id = 0"
   ]
  },
  {
   "cell_type": "code",
   "execution_count": 0,
   "metadata": {
    "colab": {},
    "colab_type": "code",
    "id": "nEemlYgm1yGZ"
   },
   "outputs": [],
   "source": [
    "def check_song_generation(song_id, show_plots = True, limit = None):\n",
    "  global test_out_melody\n",
    "  test_in_melody_encoded = music_encoded[song_id]\n",
    "  test_out_melody_encoded = np.zeros((200, latent_dim))\n",
    "  for _ in range(100):\n",
    "    test_out_melody_encoded[_] = test_in_melody_encoded[_]\n",
    "  for _ in range(100):\n",
    "    test_out_melody_encoded[100 + _] = model(test_out_melody_encoded[:100 + _].reshape(1, -1, latent_dim)).numpy()[-1][-1]\n",
    "\n",
    "  test_out_melody = decoder_model(norm_to_encoded(test_out_melody_encoded)).numpy()\n",
    "  if show_plots:\n",
    "    plt.figure(figsize=(30, 3))\n",
    "    for _ in range(10):\n",
    "      plt.subplot(1, 10, _ + 1)\n",
    "      if limit is None:\n",
    "        plt.imshow(test_out_melody[95 + _].T, cmap='gray')\n",
    "      else:\n",
    "        plt.imshow(test_out_melody[95 + _].T > limit, cmap='gray')\n",
    "\n",
    "  plt.show()"
   ]
  },
  {
   "cell_type": "code",
   "execution_count": 0,
   "metadata": {
    "colab": {
     "base_uri": "https://localhost:8080/",
     "height": 805
    },
    "colab_type": "code",
    "executionInfo": {
     "elapsed": 13510,
     "status": "ok",
     "timestamp": 1589213490464,
     "user": {
      "displayName": "Vladimir Malinovskii",
      "photoUrl": "https://lh3.googleusercontent.com/a-/AOh14Gj688PP5GPUgcL6ZDNH-aCngIr_Bgzpk6rg4DMRpQ=s64",
      "userId": "09520690191727306440"
     },
     "user_tz": -180
    },
    "id": "SdOjlH6gwgoY",
    "outputId": "77bbb6f2-21fa-4b0d-a048-4572f2ea830d"
   },
   "outputs": [
    {
     "data": {
      "image/png": "[encoded data removed]",
      "text/plain": [
       "<Figure size 2160x216 with 10 Axes>"
      ]
     },
     "metadata": {
      "needs_background": "light",
      "tags": []
     },
     "output_type": "display_data"
    },
    {
     "data": {
      "image/png": "[encoded data removed]",
      "text/plain": [
       "<Figure size 2160x216 with 10 Axes>"
      ]
     },
     "metadata": {
      "needs_background": "light",
      "tags": []
     },
     "output_type": "display_data"
    },
    {
     "data": {
      "image/png": "[encoded data removed]",
      "text/plain": [
       "<Figure size 2160x216 with 10 Axes>"
      ]
     },
     "metadata": {
      "needs_background": "light",
      "tags": []
     },
     "output_type": "display_data"
    },
    {
     "data": {
      "image/png": "[encoded data removed]",
      "text/plain": [
       "<Figure size 2160x216 with 10 Axes>"
      ]
     },
     "metadata": {
      "needs_background": "light",
      "tags": []
     },
     "output_type": "display_data"
    }
   ],
   "source": [
    "check_song_generation(-1)\n",
    "check_song_generation(-2)\n",
    "check_song_generation(-3)\n",
    "check_song_generation(-4)"
   ]
  },
  {
   "cell_type": "code",
   "execution_count": 0,
   "metadata": {
    "colab": {
     "base_uri": "https://localhost:8080/",
     "height": 214
    },
    "colab_type": "code",
    "executionInfo": {
     "elapsed": 3634,
     "status": "ok",
     "timestamp": 1589145849442,
     "user": {
      "displayName": "Vladimir Malinovskii",
      "photoUrl": "https://lh3.googleusercontent.com/a-/AOh14Gj688PP5GPUgcL6ZDNH-aCngIr_Bgzpk6rg4DMRpQ=s64",
      "userId": "09520690191727306440"
     },
     "user_tz": -180
    },
    "id": "FZZYwJAA0lC8",
    "outputId": "e3035748-ea16-450c-adb8-4f5aa6182890"
   },
   "outputs": [
    {
     "data": {
      "image/png": "[encoded data removed]",
      "text/plain": [
       "<Figure size 2160x216 with 10 Axes>"
      ]
     },
     "metadata": {
      "needs_background": "light",
      "tags": []
     },
     "output_type": "display_data"
    }
   ],
   "source": [
    "check_song_generation(-3)"
   ]
  },
  {
   "cell_type": "code",
   "execution_count": 0,
   "metadata": {
    "colab": {
     "base_uri": "https://localhost:8080/",
     "height": 469
    },
    "colab_type": "code",
    "executionInfo": {
     "elapsed": 13990,
     "status": "ok",
     "timestamp": 1589188828244,
     "user": {
      "displayName": "Vladimir Malinovskii",
      "photoUrl": "https://lh3.googleusercontent.com/a-/AOh14Gj688PP5GPUgcL6ZDNH-aCngIr_Bgzpk6rg4DMRpQ=s64",
      "userId": "09520690191727306440"
     },
     "user_tz": -180
    },
    "id": "cLuI19QT2Kpw",
    "outputId": "4fc7400f-a6e4-4051-c8d6-2ff328a0f2ac"
   },
   "outputs": [
    {
     "name": "stdout",
     "output_type": "stream",
     "text": [
      "Collecting pypianoroll\n",
      "  Downloading https://files.pythonhosted.org/packages/17/93/cca689c3e7f217a4a1906f6b96e81c4d57d423ff6778dcc7af3bad11c638/pypianoroll-0.5.3.tar.gz\n",
      "Requirement already satisfied: six<2.0,>=1.0.0 in /usr/local/lib/python3.6/dist-packages (from pypianoroll) (1.12.0)\n",
      "Requirement already satisfied: numpy<2.0,>=1.10.0 in /usr/local/lib/python3.6/dist-packages (from pypianoroll) (1.18.4)\n",
      "Requirement already satisfied: scipy<2.0,>=1.0.0 in /usr/local/lib/python3.6/dist-packages (from pypianoroll) (1.4.1)\n",
      "Collecting pretty_midi<1.0,>=0.2.8\n",
      "\u001b[?25l  Downloading https://files.pythonhosted.org/packages/bc/8e/63c6e39a7a64623a9cd6aec530070c70827f6f8f40deec938f323d7b1e15/pretty_midi-0.2.9.tar.gz (5.6MB)\n",
      "\u001b[K     |████████████████████████████████| 5.6MB 4.2MB/s \n",
      "\u001b[?25hCollecting mido>=1.1.16\n",
      "\u001b[?25l  Downloading https://files.pythonhosted.org/packages/20/0a/81beb587b1ae832ea6a1901dc7c6faa380e8dd154e0a862f0a9f3d2afab9/mido-1.2.9-py2.py3-none-any.whl (52kB)\n",
      "\u001b[K     |████████████████████████████████| 61kB 9.7MB/s \n",
      "\u001b[?25hBuilding wheels for collected packages: pypianoroll, pretty-midi\n",
      "  Building wheel for pypianoroll (setup.py) ... \u001b[?25l\u001b[?25hdone\n",
      "  Created wheel for pypianoroll: filename=pypianoroll-0.5.3-cp36-none-any.whl size=23827 sha256=52cdf53c842b09a16167c3dbb519902ae495c094badb579853a7ffb735abd0ae\n",
      "  Stored in directory: /root/.cache/pip/wheels/29/c8/c0/7b240ab723c2f96b03391796bdf278de513eabf1dfb989c07f\n",
      "  Building wheel for pretty-midi (setup.py) ... \u001b[?25l\u001b[?25hdone\n",
      "  Created wheel for pretty-midi: filename=pretty_midi-0.2.9-cp36-none-any.whl size=5591953 sha256=64571dd8b04123bc66068027398c920377584606d946cf18114c9d57a6a4a400\n",
      "  Stored in directory: /root/.cache/pip/wheels/4c/a1/c6/b5697841db1112c6e5866d75a6b6bf1bef73b874782556ba66\n",
      "Successfully built pypianoroll pretty-midi\n",
      "Installing collected packages: mido, pretty-midi, pypianoroll\n",
      "Successfully installed mido-1.2.9 pretty-midi-0.2.9 pypianoroll-0.5.3\n",
      "Imageio: 'ffmpeg-linux64-v3.3.1' was not found on your computer; downloading it now.\n",
      "Try 1. Download from https://github.com/imageio/imageio-binaries/raw/master/ffmpeg/ffmpeg-linux64-v3.3.1 (43.8 MB)\n",
      "Downloading: 8192/45929032 bytes (0.0%)\b\b\b\b\b\b\b\b\b\b\b\b\b\b\b\b\b\b\b\b\b\b\b\b\b\b712704/45929032 bytes (1.6%)\b\b\b\b\b\b\b\b\b\b\b\b\b\b\b\b\b\b\b\b\b\b\b\b\b\b\b\b1990656/45929032 bytes (4.3%)\b\b\b\b\b\b\b\b\b\b\b\b\b\b\b\b\b\b\b\b\b\b\b\b\b\b\b\b\b3858432/45929032 bytes (8.4%)\b\b\b\b\b\b\b\b\b\b\b\b\b\b\b\b\b\b\b\b\b\b\b\b\b\b\b\b\b6561792/45929032 bytes (14.3%)\b\b\b\b\b\b\b\b\b\b\b\b\b\b\b\b\b\b\b\b\b\b\b\b\b\b\b\b\b\b10452992/45929032 bytes (22.8%)\b\b\b\b\b\b\b\b\b\b\b\b\b\b\b\b\b\b\b\b\b\b\b\b\b\b\b\b\b\b\b14819328/45929032 bytes (32.3%)\b\b\b\b\b\b\b\b\b\b\b\b\b\b\b\b\b\b\b\b\b\b\b\b\b\b\b\b\b\b\b19095552/45929032 bytes (41.6%)\b\b\b\b\b\b\b\b\b\b\b\b\b\b\b\b\b\b\b\b\b\b\b\b\b\b\b\b\b\b\b23494656/45929032 bytes (51.2%)\b\b\b\b\b\b\b\b\b\b\b\b\b\b\b\b\b\b\b\b\b\b\b\b\b\b\b\b\b\b\b27844608/45929032 bytes (60.6%)\b\b\b\b\b\b\b\b\b\b\b\b\b\b\b\b\b\b\b\b\b\b\b\b\b\b\b\b\b\b\b32186368/45929032 bytes (70.1%)\b\b\b\b\b\b\b\b\b\b\b\b\b\b\b\b\b\b\b\b\b\b\b\b\b\b\b\b\b\b\b36462592/45929032 bytes (79.4%)\b\b\b\b\b\b\b\b\b\b\b\b\b\b\b\b\b\b\b\b\b\b\b\b\b\b\b\b\b\b\b40665088/45929032 bytes (88.5%)\b\b\b\b\b\b\b\b\b\b\b\b\b\b\b\b\b\b\b\b\b\b\b\b\b\b\b\b\b\b\b44965888/45929032 bytes (97.9%)\b\b\b\b\b\b\b\b\b\b\b\b\b\b\b\b\b\b\b\b\b\b\b\b\b\b\b\b\b\b\b45929032/45929032 bytes (100.0%)\n",
      "  Done\n",
      "File saved as /root/.imageio/ffmpeg/ffmpeg-linux64-v3.3.1.\n"
     ]
    }
   ],
   "source": [
    "!pip install pypianoroll\n",
    "import pypianoroll as ppr"
   ]
  },
  {
   "cell_type": "code",
   "execution_count": 0,
   "metadata": {
    "colab": {
     "base_uri": "https://localhost:8080/",
     "height": 35
    },
    "colab_type": "code",
    "executionInfo": {
     "elapsed": 1480,
     "status": "ok",
     "timestamp": 1589136511958,
     "user": {
      "displayName": "Vladimir Malinovskii",
      "photoUrl": "https://lh3.googleusercontent.com/a-/AOh14Gj688PP5GPUgcL6ZDNH-aCngIr_Bgzpk6rg4DMRpQ=s64",
      "userId": "09520690191727306440"
     },
     "user_tz": -180
    },
    "id": "vxPsmoy2H54b",
    "outputId": "06ecac7d-3806-448e-b4bc-d2c271ce19bd"
   },
   "outputs": [
    {
     "name": "stdout",
     "output_type": "stream",
     "text": [
      "0.96398586\n"
     ]
    }
   ],
   "source": [
    "filling_stat = sorted(list(test_out_melody[100:200].reshape(-1)))\n",
    "filling_input = np.mean(test_out_melody[:100])\n",
    "limit_output = filling_stat[-int(filling_input * len(filling_stat))]\n",
    "filling_input = None\n",
    "filling_stat = None\n",
    "print(limit_output)"
   ]
  },
  {
   "cell_type": "code",
   "execution_count": 0,
   "metadata": {
    "colab": {
     "base_uri": "https://localhost:8080/",
     "height": 214
    },
    "colab_type": "code",
    "executionInfo": {
     "elapsed": 3450,
     "status": "ok",
     "timestamp": 1589136727077,
     "user": {
      "displayName": "Vladimir Malinovskii",
      "photoUrl": "https://lh3.googleusercontent.com/a-/AOh14Gj688PP5GPUgcL6ZDNH-aCngIr_Bgzpk6rg4DMRpQ=s64",
      "userId": "09520690191727306440"
     },
     "user_tz": -180
    },
    "id": "34460K0QI2dM",
    "outputId": "a827d3c8-e44e-4e0a-824f-8072f1ff3c60"
   },
   "outputs": [
    {
     "data": {
      "image/png": "[encoded data removed]",
      "text/plain": [
       "<Figure size 2160x216 with 10 Axes>"
      ]
     },
     "metadata": {
      "needs_background": "light",
      "tags": []
     },
     "output_type": "display_data"
    }
   ],
   "source": [
    "check_song_generation(-4, limit_output)"
   ]
  },
  {
   "cell_type": "code",
   "execution_count": 0,
   "metadata": {
    "colab": {
     "base_uri": "https://localhost:8080/",
     "height": 66,
     "referenced_widgets": [
      "4f1a76dff0674daaa92ba9df5d128f97",
      "2abf0b4510704b589102e7458a3d6805",
      "fe3bf405e1c8419e85378358f513977f",
      "097c655a1e6f4cfdbc5cf3be95dc39be",
      "b3379a039e564597b68d9a07ec81cc30",
      "529679e11aa14e62a09f5e26ec197a95",
      "e3862c9aa8a24265a964e4a1bdc3e69e",
      "db2d8b2cd924474ca79ddcd14d743926"
     ]
    },
    "colab_type": "code",
    "executionInfo": {
     "elapsed": 313700,
     "status": "ok",
     "timestamp": 1589200354948,
     "user": {
      "displayName": "Vladimir Malinovskii",
      "photoUrl": "https://lh3.googleusercontent.com/a-/AOh14Gj688PP5GPUgcL6ZDNH-aCngIr_Bgzpk6rg4DMRpQ=s64",
      "userId": "09520690191727306440"
     },
     "user_tz": -180
    },
    "id": "yWi-i2urDC8u",
    "outputId": "ae8dc742-e41e-4ac4-c613-a2c45af79e81"
   },
   "outputs": [
    {
     "data": {
      "application/vnd.jupyter.widget-view+json": {
       "model_id": "4f1a76dff0674daaa92ba9df5d128f97",
       "version_major": 2,
       "version_minor": 0
      },
      "text/plain": [
       "HBox(children=(FloatProgress(value=0.0), HTML(value='')))"
      ]
     },
     "metadata": {
      "tags": []
     },
     "output_type": "display_data"
    },
    {
     "name": "stdout",
     "output_type": "stream",
     "text": [
      "\n"
     ]
    }
   ],
   "source": [
    "for _ in tqdm(range(100)):\n",
    "  check_song_generation(-_, False)\n",
    "  ppr.Multitrack(tempo=80, tracks=[ppr.Track(pianoroll=(test_out_melody[100:200].reshape(-1, 128)) * 100)]).write('/content/gdrive/My Drive/midi-vae-4-lstm/midi-out/{0}.mid'.format(_))"
   ]
  }
 ],
 "metadata": {
  "accelerator": "GPU",
  "colab": {
   "authorship_tag": "ABX9TyPYvkGWR+3+c0rxyE18Z75b",
   "collapsed_sections": [],
   "machine_shape": "hm",
   "name": "final-lstm.ipynb",
   "provenance": []
  },
  "kernelspec": {
   "display_name": "Python 3",
   "language": "python",
   "name": "python3"
  },
  "language_info": {
   "codemirror_mode": {
    "name": "ipython",
    "version": 3
   },
   "file_extension": ".py",
   "mimetype": "text/x-python",
   "name": "python",
   "nbconvert_exporter": "python",
   "pygments_lexer": "ipython3",
   "version": "3.9.2"
  },
  "widgets": {
   "application/vnd.jupyter.widget-state+json": {
    "097c655a1e6f4cfdbc5cf3be95dc39be": {
     "model_module": "@jupyter-widgets/controls",
     "model_name": "HTMLModel",
     "state": {
      "_dom_classes": [],
      "_model_module": "@jupyter-widgets/controls",
      "_model_module_version": "1.5.0",
      "_model_name": "HTMLModel",
      "_view_count": null,
      "_view_module": "@jupyter-widgets/controls",
      "_view_module_version": "1.5.0",
      "_view_name": "HTMLView",
      "description": "",
      "description_tooltip": null,
      "layout": "IPY_MODEL_db2d8b2cd924474ca79ddcd14d743926",
      "placeholder": "​",
      "style": "IPY_MODEL_e3862c9aa8a24265a964e4a1bdc3e69e",
      "value": " 100/100 [1:47:50&lt;00:00, 64.71s/it]"
     }
    },
    "12dd090f7f0a4df5b04aad2b318fe897": {
     "model_module": "@jupyter-widgets/controls",
     "model_name": "DescriptionStyleModel",
     "state": {
      "_model_module": "@jupyter-widgets/controls",
      "_model_module_version": "1.5.0",
      "_model_name": "DescriptionStyleModel",
      "_view_count": null,
      "_view_module": "@jupyter-widgets/base",
      "_view_module_version": "1.2.0",
      "_view_name": "StyleView",
      "description_width": ""
     }
    },
    "282ff940ce894318aa5875906aa33d6a": {
     "model_module": "@jupyter-widgets/base",
     "model_name": "LayoutModel",
     "state": {
      "_model_module": "@jupyter-widgets/base",
      "_model_module_version": "1.2.0",
      "_model_name": "LayoutModel",
      "_view_count": null,
      "_view_module": "@jupyter-widgets/base",
      "_view_module_version": "1.2.0",
      "_view_name": "LayoutView",
      "align_content": null,
      "align_items": null,
      "align_self": null,
      "border": null,
      "bottom": null,
      "display": null,
      "flex": null,
      "flex_flow": null,
      "grid_area": null,
      "grid_auto_columns": null,
      "grid_auto_flow": null,
      "grid_auto_rows": null,
      "grid_column": null,
      "grid_gap": null,
      "grid_row": null,
      "grid_template_areas": null,
      "grid_template_columns": null,
      "grid_template_rows": null,
      "height": null,
      "justify_content": null,
      "justify_items": null,
      "left": null,
      "margin": null,
      "max_height": null,
      "max_width": null,
      "min_height": null,
      "min_width": null,
      "object_fit": null,
      "object_position": null,
      "order": null,
      "overflow": null,
      "overflow_x": null,
      "overflow_y": null,
      "padding": null,
      "right": null,
      "top": null,
      "visibility": null,
      "width": null
     }
    },
    "2abf0b4510704b589102e7458a3d6805": {
     "model_module": "@jupyter-widgets/base",
     "model_name": "LayoutModel",
     "state": {
      "_model_module": "@jupyter-widgets/base",
      "_model_module_version": "1.2.0",
      "_model_name": "LayoutModel",
      "_view_count": null,
      "_view_module": "@jupyter-widgets/base",
      "_view_module_version": "1.2.0",
      "_view_name": "LayoutView",
      "align_content": null,
      "align_items": null,
      "align_self": null,
      "border": null,
      "bottom": null,
      "display": null,
      "flex": null,
      "flex_flow": null,
      "grid_area": null,
      "grid_auto_columns": null,
      "grid_auto_flow": null,
      "grid_auto_rows": null,
      "grid_column": null,
      "grid_gap": null,
      "grid_row": null,
      "grid_template_areas": null,
      "grid_template_columns": null,
      "grid_template_rows": null,
      "height": null,
      "justify_content": null,
      "justify_items": null,
      "left": null,
      "margin": null,
      "max_height": null,
      "max_width": null,
      "min_height": null,
      "min_width": null,
      "object_fit": null,
      "object_position": null,
      "order": null,
      "overflow": null,
      "overflow_x": null,
      "overflow_y": null,
      "padding": null,
      "right": null,
      "top": null,
      "visibility": null,
      "width": null
     }
    },
    "2ba2977b31484c7486f9463daec9a9da": {
     "model_module": "@jupyter-widgets/controls",
     "model_name": "HTMLModel",
     "state": {
      "_dom_classes": [],
      "_model_module": "@jupyter-widgets/controls",
      "_model_module_version": "1.5.0",
      "_model_name": "HTMLModel",
      "_view_count": null,
      "_view_module": "@jupyter-widgets/controls",
      "_view_module_version": "1.5.0",
      "_view_name": "HTMLView",
      "description": "",
      "description_tooltip": null,
      "layout": "IPY_MODEL_282ff940ce894318aa5875906aa33d6a",
      "placeholder": "​",
      "style": "IPY_MODEL_12dd090f7f0a4df5b04aad2b318fe897",
      "value": " 35/35 [01:02&lt;00:00,  1.78s/it]"
     }
    },
    "3617c7bed98f419788a168172fb671c5": {
     "model_module": "@jupyter-widgets/controls",
     "model_name": "ProgressStyleModel",
     "state": {
      "_model_module": "@jupyter-widgets/controls",
      "_model_module_version": "1.5.0",
      "_model_name": "ProgressStyleModel",
      "_view_count": null,
      "_view_module": "@jupyter-widgets/base",
      "_view_module_version": "1.2.0",
      "_view_name": "StyleView",
      "bar_color": null,
      "description_width": "initial"
     }
    },
    "38ced9a9ca2249b38cd32029c812cc20": {
     "model_module": "@jupyter-widgets/base",
     "model_name": "LayoutModel",
     "state": {
      "_model_module": "@jupyter-widgets/base",
      "_model_module_version": "1.2.0",
      "_model_name": "LayoutModel",
      "_view_count": null,
      "_view_module": "@jupyter-widgets/base",
      "_view_module_version": "1.2.0",
      "_view_name": "LayoutView",
      "align_content": null,
      "align_items": null,
      "align_self": null,
      "border": null,
      "bottom": null,
      "display": null,
      "flex": null,
      "flex_flow": null,
      "grid_area": null,
      "grid_auto_columns": null,
      "grid_auto_flow": null,
      "grid_auto_rows": null,
      "grid_column": null,
      "grid_gap": null,
      "grid_row": null,
      "grid_template_areas": null,
      "grid_template_columns": null,
      "grid_template_rows": null,
      "height": null,
      "justify_content": null,
      "justify_items": null,
      "left": null,
      "margin": null,
      "max_height": null,
      "max_width": null,
      "min_height": null,
      "min_width": null,
      "object_fit": null,
      "object_position": null,
      "order": null,
      "overflow": null,
      "overflow_x": null,
      "overflow_y": null,
      "padding": null,
      "right": null,
      "top": null,
      "visibility": null,
      "width": null
     }
    },
    "3aa6f41157c646e698caf3db5559bcab": {
     "model_module": "@jupyter-widgets/controls",
     "model_name": "HTMLModel",
     "state": {
      "_dom_classes": [],
      "_model_module": "@jupyter-widgets/controls",
      "_model_module_version": "1.5.0",
      "_model_name": "HTMLModel",
      "_view_count": null,
      "_view_module": "@jupyter-widgets/controls",
      "_view_module_version": "1.5.0",
      "_view_name": "HTMLView",
      "description": "",
      "description_tooltip": null,
      "layout": "IPY_MODEL_6bd3c9e7dcb94904a1c8fda0fed064f6",
      "placeholder": "​",
      "style": "IPY_MODEL_4af818e2095e4fa49a169d989cf5dd5a",
      "value": " 35/35 [01:06&lt;00:00,  1.90s/it]"
     }
    },
    "437dc94c0da24201b74d180ed49a30b4": {
     "model_module": "@jupyter-widgets/controls",
     "model_name": "HBoxModel",
     "state": {
      "_dom_classes": [],
      "_model_module": "@jupyter-widgets/controls",
      "_model_module_version": "1.5.0",
      "_model_name": "HBoxModel",
      "_view_count": null,
      "_view_module": "@jupyter-widgets/controls",
      "_view_module_version": "1.5.0",
      "_view_name": "HBoxView",
      "box_style": "",
      "children": [
       "IPY_MODEL_5826571289224afe937b0aa28bdd8922",
       "IPY_MODEL_2ba2977b31484c7486f9463daec9a9da"
      ],
      "layout": "IPY_MODEL_8c95e1bebd944d37ae4894557e4a3c1e"
     }
    },
    "453b78caf5c34edf9b722b165fce5f83": {
     "model_module": "@jupyter-widgets/base",
     "model_name": "LayoutModel",
     "state": {
      "_model_module": "@jupyter-widgets/base",
      "_model_module_version": "1.2.0",
      "_model_name": "LayoutModel",
      "_view_count": null,
      "_view_module": "@jupyter-widgets/base",
      "_view_module_version": "1.2.0",
      "_view_name": "LayoutView",
      "align_content": null,
      "align_items": null,
      "align_self": null,
      "border": null,
      "bottom": null,
      "display": null,
      "flex": null,
      "flex_flow": null,
      "grid_area": null,
      "grid_auto_columns": null,
      "grid_auto_flow": null,
      "grid_auto_rows": null,
      "grid_column": null,
      "grid_gap": null,
      "grid_row": null,
      "grid_template_areas": null,
      "grid_template_columns": null,
      "grid_template_rows": null,
      "height": null,
      "justify_content": null,
      "justify_items": null,
      "left": null,
      "margin": null,
      "max_height": null,
      "max_width": null,
      "min_height": null,
      "min_width": null,
      "object_fit": null,
      "object_position": null,
      "order": null,
      "overflow": null,
      "overflow_x": null,
      "overflow_y": null,
      "padding": null,
      "right": null,
      "top": null,
      "visibility": null,
      "width": null
     }
    },
    "4af818e2095e4fa49a169d989cf5dd5a": {
     "model_module": "@jupyter-widgets/controls",
     "model_name": "DescriptionStyleModel",
     "state": {
      "_model_module": "@jupyter-widgets/controls",
      "_model_module_version": "1.5.0",
      "_model_name": "DescriptionStyleModel",
      "_view_count": null,
      "_view_module": "@jupyter-widgets/base",
      "_view_module_version": "1.2.0",
      "_view_name": "StyleView",
      "description_width": ""
     }
    },
    "4f1a76dff0674daaa92ba9df5d128f97": {
     "model_module": "@jupyter-widgets/controls",
     "model_name": "HBoxModel",
     "state": {
      "_dom_classes": [],
      "_model_module": "@jupyter-widgets/controls",
      "_model_module_version": "1.5.0",
      "_model_name": "HBoxModel",
      "_view_count": null,
      "_view_module": "@jupyter-widgets/controls",
      "_view_module_version": "1.5.0",
      "_view_name": "HBoxView",
      "box_style": "",
      "children": [
       "IPY_MODEL_fe3bf405e1c8419e85378358f513977f",
       "IPY_MODEL_097c655a1e6f4cfdbc5cf3be95dc39be"
      ],
      "layout": "IPY_MODEL_2abf0b4510704b589102e7458a3d6805"
     }
    },
    "529679e11aa14e62a09f5e26ec197a95": {
     "model_module": "@jupyter-widgets/base",
     "model_name": "LayoutModel",
     "state": {
      "_model_module": "@jupyter-widgets/base",
      "_model_module_version": "1.2.0",
      "_model_name": "LayoutModel",
      "_view_count": null,
      "_view_module": "@jupyter-widgets/base",
      "_view_module_version": "1.2.0",
      "_view_name": "LayoutView",
      "align_content": null,
      "align_items": null,
      "align_self": null,
      "border": null,
      "bottom": null,
      "display": null,
      "flex": null,
      "flex_flow": null,
      "grid_area": null,
      "grid_auto_columns": null,
      "grid_auto_flow": null,
      "grid_auto_rows": null,
      "grid_column": null,
      "grid_gap": null,
      "grid_row": null,
      "grid_template_areas": null,
      "grid_template_columns": null,
      "grid_template_rows": null,
      "height": null,
      "justify_content": null,
      "justify_items": null,
      "left": null,
      "margin": null,
      "max_height": null,
      "max_width": null,
      "min_height": null,
      "min_width": null,
      "object_fit": null,
      "object_position": null,
      "order": null,
      "overflow": null,
      "overflow_x": null,
      "overflow_y": null,
      "padding": null,
      "right": null,
      "top": null,
      "visibility": null,
      "width": null
     }
    },
    "5826571289224afe937b0aa28bdd8922": {
     "model_module": "@jupyter-widgets/controls",
     "model_name": "FloatProgressModel",
     "state": {
      "_dom_classes": [],
      "_model_module": "@jupyter-widgets/controls",
      "_model_module_version": "1.5.0",
      "_model_name": "FloatProgressModel",
      "_view_count": null,
      "_view_module": "@jupyter-widgets/controls",
      "_view_module_version": "1.5.0",
      "_view_name": "ProgressView",
      "bar_style": "success",
      "description": "100%",
      "description_tooltip": null,
      "layout": "IPY_MODEL_453b78caf5c34edf9b722b165fce5f83",
      "max": 35,
      "min": 0,
      "orientation": "horizontal",
      "style": "IPY_MODEL_3617c7bed98f419788a168172fb671c5",
      "value": 35
     }
    },
    "6bd3c9e7dcb94904a1c8fda0fed064f6": {
     "model_module": "@jupyter-widgets/base",
     "model_name": "LayoutModel",
     "state": {
      "_model_module": "@jupyter-widgets/base",
      "_model_module_version": "1.2.0",
      "_model_name": "LayoutModel",
      "_view_count": null,
      "_view_module": "@jupyter-widgets/base",
      "_view_module_version": "1.2.0",
      "_view_name": "LayoutView",
      "align_content": null,
      "align_items": null,
      "align_self": null,
      "border": null,
      "bottom": null,
      "display": null,
      "flex": null,
      "flex_flow": null,
      "grid_area": null,
      "grid_auto_columns": null,
      "grid_auto_flow": null,
      "grid_auto_rows": null,
      "grid_column": null,
      "grid_gap": null,
      "grid_row": null,
      "grid_template_areas": null,
      "grid_template_columns": null,
      "grid_template_rows": null,
      "height": null,
      "justify_content": null,
      "justify_items": null,
      "left": null,
      "margin": null,
      "max_height": null,
      "max_width": null,
      "min_height": null,
      "min_width": null,
      "object_fit": null,
      "object_position": null,
      "order": null,
      "overflow": null,
      "overflow_x": null,
      "overflow_y": null,
      "padding": null,
      "right": null,
      "top": null,
      "visibility": null,
      "width": null
     }
    },
    "8c95e1bebd944d37ae4894557e4a3c1e": {
     "model_module": "@jupyter-widgets/base",
     "model_name": "LayoutModel",
     "state": {
      "_model_module": "@jupyter-widgets/base",
      "_model_module_version": "1.2.0",
      "_model_name": "LayoutModel",
      "_view_count": null,
      "_view_module": "@jupyter-widgets/base",
      "_view_module_version": "1.2.0",
      "_view_name": "LayoutView",
      "align_content": null,
      "align_items": null,
      "align_self": null,
      "border": null,
      "bottom": null,
      "display": null,
      "flex": null,
      "flex_flow": null,
      "grid_area": null,
      "grid_auto_columns": null,
      "grid_auto_flow": null,
      "grid_auto_rows": null,
      "grid_column": null,
      "grid_gap": null,
      "grid_row": null,
      "grid_template_areas": null,
      "grid_template_columns": null,
      "grid_template_rows": null,
      "height": null,
      "justify_content": null,
      "justify_items": null,
      "left": null,
      "margin": null,
      "max_height": null,
      "max_width": null,
      "min_height": null,
      "min_width": null,
      "object_fit": null,
      "object_position": null,
      "order": null,
      "overflow": null,
      "overflow_x": null,
      "overflow_y": null,
      "padding": null,
      "right": null,
      "top": null,
      "visibility": null,
      "width": null
     }
    },
    "93afdc6aad4242d4b9c0c90d73fada9e": {
     "model_module": "@jupyter-widgets/controls",
     "model_name": "ProgressStyleModel",
     "state": {
      "_model_module": "@jupyter-widgets/controls",
      "_model_module_version": "1.5.0",
      "_model_name": "ProgressStyleModel",
      "_view_count": null,
      "_view_module": "@jupyter-widgets/base",
      "_view_module_version": "1.2.0",
      "_view_name": "StyleView",
      "bar_color": null,
      "description_width": "initial"
     }
    },
    "977e5387cbfd4fe58a55c8dc0be8c11d": {
     "model_module": "@jupyter-widgets/controls",
     "model_name": "FloatProgressModel",
     "state": {
      "_dom_classes": [],
      "_model_module": "@jupyter-widgets/controls",
      "_model_module_version": "1.5.0",
      "_model_name": "FloatProgressModel",
      "_view_count": null,
      "_view_module": "@jupyter-widgets/controls",
      "_view_module_version": "1.5.0",
      "_view_name": "ProgressView",
      "bar_style": "success",
      "description": "100%",
      "description_tooltip": null,
      "layout": "IPY_MODEL_38ced9a9ca2249b38cd32029c812cc20",
      "max": 35,
      "min": 0,
      "orientation": "horizontal",
      "style": "IPY_MODEL_93afdc6aad4242d4b9c0c90d73fada9e",
      "value": 35
     }
    },
    "b3379a039e564597b68d9a07ec81cc30": {
     "model_module": "@jupyter-widgets/controls",
     "model_name": "ProgressStyleModel",
     "state": {
      "_model_module": "@jupyter-widgets/controls",
      "_model_module_version": "1.5.0",
      "_model_name": "ProgressStyleModel",
      "_view_count": null,
      "_view_module": "@jupyter-widgets/base",
      "_view_module_version": "1.2.0",
      "_view_name": "StyleView",
      "bar_color": null,
      "description_width": "initial"
     }
    },
    "bcfa839c6a284374a2f693c835e2a880": {
     "model_module": "@jupyter-widgets/base",
     "model_name": "LayoutModel",
     "state": {
      "_model_module": "@jupyter-widgets/base",
      "_model_module_version": "1.2.0",
      "_model_name": "LayoutModel",
      "_view_count": null,
      "_view_module": "@jupyter-widgets/base",
      "_view_module_version": "1.2.0",
      "_view_name": "LayoutView",
      "align_content": null,
      "align_items": null,
      "align_self": null,
      "border": null,
      "bottom": null,
      "display": null,
      "flex": null,
      "flex_flow": null,
      "grid_area": null,
      "grid_auto_columns": null,
      "grid_auto_flow": null,
      "grid_auto_rows": null,
      "grid_column": null,
      "grid_gap": null,
      "grid_row": null,
      "grid_template_areas": null,
      "grid_template_columns": null,
      "grid_template_rows": null,
      "height": null,
      "justify_content": null,
      "justify_items": null,
      "left": null,
      "margin": null,
      "max_height": null,
      "max_width": null,
      "min_height": null,
      "min_width": null,
      "object_fit": null,
      "object_position": null,
      "order": null,
      "overflow": null,
      "overflow_x": null,
      "overflow_y": null,
      "padding": null,
      "right": null,
      "top": null,
      "visibility": null,
      "width": null
     }
    },
    "beac21b65f6540a29ac81c7f2dac4545": {
     "model_module": "@jupyter-widgets/controls",
     "model_name": "HBoxModel",
     "state": {
      "_dom_classes": [],
      "_model_module": "@jupyter-widgets/controls",
      "_model_module_version": "1.5.0",
      "_model_name": "HBoxModel",
      "_view_count": null,
      "_view_module": "@jupyter-widgets/controls",
      "_view_module_version": "1.5.0",
      "_view_name": "HBoxView",
      "box_style": "",
      "children": [
       "IPY_MODEL_977e5387cbfd4fe58a55c8dc0be8c11d",
       "IPY_MODEL_3aa6f41157c646e698caf3db5559bcab"
      ],
      "layout": "IPY_MODEL_bcfa839c6a284374a2f693c835e2a880"
     }
    },
    "db2d8b2cd924474ca79ddcd14d743926": {
     "model_module": "@jupyter-widgets/base",
     "model_name": "LayoutModel",
     "state": {
      "_model_module": "@jupyter-widgets/base",
      "_model_module_version": "1.2.0",
      "_model_name": "LayoutModel",
      "_view_count": null,
      "_view_module": "@jupyter-widgets/base",
      "_view_module_version": "1.2.0",
      "_view_name": "LayoutView",
      "align_content": null,
      "align_items": null,
      "align_self": null,
      "border": null,
      "bottom": null,
      "display": null,
      "flex": null,
      "flex_flow": null,
      "grid_area": null,
      "grid_auto_columns": null,
      "grid_auto_flow": null,
      "grid_auto_rows": null,
      "grid_column": null,
      "grid_gap": null,
      "grid_row": null,
      "grid_template_areas": null,
      "grid_template_columns": null,
      "grid_template_rows": null,
      "height": null,
      "justify_content": null,
      "justify_items": null,
      "left": null,
      "margin": null,
      "max_height": null,
      "max_width": null,
      "min_height": null,
      "min_width": null,
      "object_fit": null,
      "object_position": null,
      "order": null,
      "overflow": null,
      "overflow_x": null,
      "overflow_y": null,
      "padding": null,
      "right": null,
      "top": null,
      "visibility": null,
      "width": null
     }
    },
    "e3862c9aa8a24265a964e4a1bdc3e69e": {
     "model_module": "@jupyter-widgets/controls",
     "model_name": "DescriptionStyleModel",
     "state": {
      "_model_module": "@jupyter-widgets/controls",
      "_model_module_version": "1.5.0",
      "_model_name": "DescriptionStyleModel",
      "_view_count": null,
      "_view_module": "@jupyter-widgets/base",
      "_view_module_version": "1.2.0",
      "_view_name": "StyleView",
      "description_width": ""
     }
    },
    "fe3bf405e1c8419e85378358f513977f": {
     "model_module": "@jupyter-widgets/controls",
     "model_name": "FloatProgressModel",
     "state": {
      "_dom_classes": [],
      "_model_module": "@jupyter-widgets/controls",
      "_model_module_version": "1.5.0",
      "_model_name": "FloatProgressModel",
      "_view_count": null,
      "_view_module": "@jupyter-widgets/controls",
      "_view_module_version": "1.5.0",
      "_view_name": "ProgressView",
      "bar_style": "success",
      "description": "100%",
      "description_tooltip": null,
      "layout": "IPY_MODEL_529679e11aa14e62a09f5e26ec197a95",
      "max": 100,
      "min": 0,
      "orientation": "horizontal",
      "style": "IPY_MODEL_b3379a039e564597b68d9a07ec81cc30",
      "value": 100
     }
    }
   }
  }
 },
 "nbformat": 4,
 "nbformat_minor": 1
}
