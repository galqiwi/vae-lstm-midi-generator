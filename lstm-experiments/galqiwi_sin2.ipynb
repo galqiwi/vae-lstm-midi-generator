{
 "cells": [
  {
   "cell_type": "code",
   "execution_count": 1,
   "metadata": {
    "colab": {
     "base_uri": "https://localhost:8080/",
     "height": 64
    },
    "colab_type": "code",
    "executionInfo": {
     "elapsed": 3586,
     "status": "ok",
     "timestamp": 1584209065291,
     "user": {
      "displayName": "Vladimir Malinovskii",
      "photoUrl": "https://lh3.googleusercontent.com/a-/AOh14Gj688PP5GPUgcL6ZDNH-aCngIr_Bgzpk6rg4DMRpQ=s64",
      "userId": "09520690191727306440"
     },
     "user_tz": -180
    },
    "id": "1mzGhNEiDzdk",
    "outputId": "6c90c530-1807-4f44-8143-3e3e66d14fae"
   },
   "outputs": [
    {
     "data": {
      "text/html": [
       "<p style=\"color: red;\">\n",
       "The default version of TensorFlow in Colab will soon switch to TensorFlow 2.x.<br>\n",
       "We recommend you <a href=\"https://www.tensorflow.org/guide/migrate\" target=\"_blank\">upgrade</a> now \n",
       "or ensure your notebook will continue to use TensorFlow 1.x via the <code>%tensorflow_version 1.x</code> magic:\n",
       "<a href=\"https://colab.research.google.com/notebooks/tensorflow_version.ipynb\" target=\"_blank\">more info</a>.</p>\n"
      ],
      "text/plain": [
       "<IPython.core.display.HTML object>"
      ]
     },
     "metadata": {
      "tags": []
     },
     "output_type": "display_data"
    }
   ],
   "source": [
    "import tensorflow as tf\n",
    "import numpy as np\n",
    "import random\n",
    "from tensorflow.keras.models import Model\n",
    "from tensorflow.keras.layers import Dense, Input, LSTM\n",
    "gpu = tf.config.experimental.list_physical_devices('GPU')[0]"
   ]
  },
  {
   "cell_type": "code",
   "execution_count": 6,
   "metadata": {
    "colab": {
     "base_uri": "https://localhost:8080/",
     "height": 260
    },
    "colab_type": "code",
    "executionInfo": {
     "elapsed": 1313,
     "status": "ok",
     "timestamp": 1584209370398,
     "user": {
      "displayName": "Vladimir Malinovskii",
      "photoUrl": "https://lh3.googleusercontent.com/a-/AOh14Gj688PP5GPUgcL6ZDNH-aCngIr_Bgzpk6rg4DMRpQ=s64",
      "userId": "09520690191727306440"
     },
     "user_tz": -180
    },
    "id": "dT2QhBFBD67w",
    "outputId": "b6e61b06-2118-4324-f73c-aecefee529b3"
   },
   "outputs": [
    {
     "name": "stdout",
     "output_type": "stream",
     "text": [
      "Model: \"model_1\"\n",
      "_________________________________________________________________\n",
      "Layer (type)                 Output Shape              Param #   \n",
      "=================================================================\n",
      "input_2 (InputLayer)         [(None, None, 1)]         0         \n",
      "_________________________________________________________________\n",
      "lstm_1 (LSTM)                (None, 500)               1004000   \n",
      "_________________________________________________________________\n",
      "dense_1 (Dense)              (None, 1)                 501       \n",
      "=================================================================\n",
      "Total params: 1,004,501\n",
      "Trainable params: 1,004,501\n",
      "Non-trainable params: 0\n",
      "_________________________________________________________________\n"
     ]
    }
   ],
   "source": [
    "inp = Input((None, 1))\n",
    "x = LSTM(500, implementation=1)(inp)\n",
    "end = Dense(1, activation='tanh')(x)\n",
    "model = Model(inp, end)\n",
    "model.summary()"
   ]
  },
  {
   "cell_type": "code",
   "execution_count": 0,
   "metadata": {
    "colab": {},
    "colab_type": "code",
    "id": "eF4GAgzKEBZM"
   },
   "outputs": [],
   "source": [
    "def sin_batch_gen(batch_size, len = 100):\n",
    "  while True:\n",
    "    out_x = np.array([np.arange(0, len * 0.05, 0.05) + random.random() * np.pi * 2 for i in range(0, batch_size)])\n",
    "    out_in = np.sin(out_x)\n",
    "    out_pred = np.array([x[-1] for x in out_in])\n",
    "    out_in = np.array([x[:-1] for x in out_in]).reshape(batch_size, len - 1, 1)\n",
    "    yield (out_in, out_pred)"
   ]
  },
  {
   "cell_type": "code",
   "execution_count": 7,
   "metadata": {
    "colab": {
     "base_uri": "https://localhost:8080/",
     "height": 1000
    },
    "colab_type": "code",
    "executionInfo": {
     "elapsed": 32850,
     "status": "ok",
     "timestamp": 1584209407941,
     "user": {
      "displayName": "Vladimir Malinovskii",
      "photoUrl": "https://lh3.googleusercontent.com/a-/AOh14Gj688PP5GPUgcL6ZDNH-aCngIr_Bgzpk6rg4DMRpQ=s64",
      "userId": "09520690191727306440"
     },
     "user_tz": -180
    },
    "id": "EvKgGbfCGkMg",
    "outputId": "f66a5507-dbec-4cf8-eccc-40bb87b76b76"
   },
   "outputs": [
    {
     "name": "stdout",
     "output_type": "stream",
     "text": [
      "Epoch 1/40\n",
      "5/5 [==============================] - 2s 392ms/step - loss: 0.2260\n",
      "Epoch 2/40\n",
      "5/5 [==============================] - 1s 158ms/step - loss: 0.0298\n",
      "Epoch 3/40\n",
      "5/5 [==============================] - 1s 146ms/step - loss: 0.0108\n",
      "Epoch 4/40\n",
      "5/5 [==============================] - 1s 146ms/step - loss: 0.0075\n",
      "Epoch 5/40\n",
      "5/5 [==============================] - 1s 167ms/step - loss: 0.0072\n",
      "Epoch 6/40\n",
      "5/5 [==============================] - 1s 155ms/step - loss: 0.0065\n",
      "Epoch 7/40\n",
      "5/5 [==============================] - 1s 154ms/step - loss: 0.0058\n",
      "Epoch 8/40\n",
      "5/5 [==============================] - 1s 151ms/step - loss: 0.0058\n",
      "Epoch 9/40\n",
      "5/5 [==============================] - 1s 154ms/step - loss: 0.0056\n",
      "Epoch 10/40\n",
      "5/5 [==============================] - 1s 141ms/step - loss: 0.0048\n",
      "Epoch 11/40\n",
      "5/5 [==============================] - 1s 154ms/step - loss: 0.0040\n",
      "Epoch 12/40\n",
      "5/5 [==============================] - 1s 145ms/step - loss: 0.0029\n",
      "Epoch 13/40\n",
      "5/5 [==============================] - 1s 144ms/step - loss: 0.0019\n",
      "Epoch 14/40\n",
      "5/5 [==============================] - 1s 154ms/step - loss: 0.0018\n",
      "Epoch 15/40\n",
      "5/5 [==============================] - 1s 150ms/step - loss: 0.0011\n",
      "Epoch 16/40\n",
      "5/5 [==============================] - 1s 164ms/step - loss: 9.3537e-04\n",
      "Epoch 17/40\n",
      "5/5 [==============================] - 1s 143ms/step - loss: 6.8059e-04\n",
      "Epoch 18/40\n",
      "5/5 [==============================] - 1s 166ms/step - loss: 6.5639e-04\n",
      "Epoch 19/40\n",
      "5/5 [==============================] - 1s 154ms/step - loss: 5.7942e-04\n",
      "Epoch 20/40\n",
      "5/5 [==============================] - 1s 151ms/step - loss: 5.1808e-04\n",
      "Epoch 21/40\n",
      "5/5 [==============================] - 1s 162ms/step - loss: 3.2087e-04\n",
      "Epoch 22/40\n",
      "5/5 [==============================] - 1s 153ms/step - loss: 3.0194e-04\n",
      "Epoch 23/40\n",
      "5/5 [==============================] - 1s 166ms/step - loss: 2.0857e-04\n",
      "Epoch 24/40\n",
      "5/5 [==============================] - 1s 145ms/step - loss: 1.9830e-04\n",
      "Epoch 25/40\n",
      "5/5 [==============================] - 1s 148ms/step - loss: 1.7029e-04\n",
      "Epoch 26/40\n",
      "5/5 [==============================] - 1s 153ms/step - loss: 1.7514e-04\n",
      "Epoch 27/40\n",
      "5/5 [==============================] - 1s 145ms/step - loss: 1.6787e-04\n",
      "Epoch 28/40\n",
      "5/5 [==============================] - 1s 156ms/step - loss: 1.3369e-04\n",
      "Epoch 29/40\n",
      "5/5 [==============================] - 1s 144ms/step - loss: 1.1919e-04\n",
      "Epoch 30/40\n",
      "5/5 [==============================] - 1s 155ms/step - loss: 1.3033e-04\n",
      "Epoch 31/40\n",
      "5/5 [==============================] - 1s 147ms/step - loss: 1.1319e-04\n",
      "Epoch 32/40\n",
      "5/5 [==============================] - 1s 163ms/step - loss: 1.1602e-04\n",
      "Epoch 33/40\n",
      "5/5 [==============================] - 1s 168ms/step - loss: 9.8440e-05\n",
      "Epoch 34/40\n",
      "5/5 [==============================] - 1s 146ms/step - loss: 9.7572e-05\n",
      "Epoch 35/40\n",
      "5/5 [==============================] - 1s 146ms/step - loss: 1.2305e-04\n",
      "Epoch 36/40\n",
      "5/5 [==============================] - 1s 140ms/step - loss: 1.3401e-04\n",
      "Epoch 37/40\n",
      "5/5 [==============================] - 1s 156ms/step - loss: 1.0335e-04\n",
      "Epoch 38/40\n",
      "5/5 [==============================] - 1s 161ms/step - loss: 9.3909e-05\n",
      "Epoch 39/40\n",
      "5/5 [==============================] - 1s 143ms/step - loss: 8.2494e-05\n",
      "Epoch 40/40\n",
      "5/5 [==============================] - 1s 145ms/step - loss: 7.8174e-05\n"
     ]
    },
    {
     "data": {
      "text/plain": [
       "<tensorflow.python.keras.callbacks.History at 0x7fd56062cb70>"
      ]
     },
     "execution_count": 7,
     "metadata": {
      "tags": []
     },
     "output_type": "execute_result"
    }
   ],
   "source": [
    "model.compile(optimizer='adam', loss='mse')\n",
    "model.fit_generator(sin_batch_gen(100), steps_per_epoch=5, epochs=40, verbose=1)"
   ]
  },
  {
   "cell_type": "code",
   "execution_count": 0,
   "metadata": {
    "colab": {
     "base_uri": "https://localhost:8080/",
     "height": 538
    },
    "colab_type": "code",
    "id": "RrdOhA6HHHfM",
    "outputId": "bc4216ae-5124-4b0e-cd88-6c8d6bc3586a"
   },
   "outputs": [
    {
     "name": "stdout",
     "output_type": "stream",
     "text": [
      "110 400\n",
      "120 400\n",
      "130 400\n",
      "140 400\n",
      "150 400\n",
      "160 400\n",
      "170 400\n",
      "180 400\n",
      "190 400\n",
      "200 400\n",
      "210 400\n",
      "220 400\n",
      "230 400\n",
      "240 400\n",
      "250 400\n",
      "260 400\n",
      "270 400\n",
      "280 400\n",
      "290 400\n",
      "300 400\n",
      "310 400\n",
      "320 400\n",
      "330 400\n",
      "340 400\n",
      "350 400\n",
      "360 400\n",
      "370 400\n",
      "380 400\n",
      "390 400\n",
      "400 400\n"
     ]
    }
   ],
   "source": [
    "in_test = np.sin(np.arange(0, 20, 0.05))\n",
    "out_test = in_test[:100].reshape((1, 100, 1))\n",
    "#print(out_test)\n",
    "while len(out_test[0]) < len(in_test):\n",
    "  out_test = np.append(out_test, model.predict(out_test[-100:])[0][0])\n",
    "  out_test = out_test.reshape((1, out_test.shape[0], 1))\n",
    "  if (len(out_test[0]) % 10 == 0):\n",
    "    print(len(out_test[0]), len(in_test))\n",
    "\n",
    "out_test = out_test.reshape((out_test.shape[1]))"
   ]
  },
  {
   "cell_type": "code",
   "execution_count": 0,
   "metadata": {
    "colab": {
     "base_uri": "https://localhost:8080/",
     "height": 265
    },
    "colab_type": "code",
    "id": "w0XbEM10HJJi",
    "outputId": "6f52c6d7-0d98-4b5a-f8fd-ed8dda6a3e92"
   },
   "outputs": [
    {
     "data": {
      "image/png": "[encoded data removed]",
      "text/plain": [
       "<Figure size 432x288 with 1 Axes>"
      ]
     },
     "metadata": {
      "tags": []
     },
     "output_type": "display_data"
    }
   ],
   "source": [
    "import matplotlib.pyplot as plt\n",
    "x_values = np.arange(0, len(in_test) * 0.05, 0.05)\n",
    "plt.plot(x_values, in_test)\n",
    "plt.plot(x_values, out_test)\n",
    "plt.show()"
   ]
  }
 ],
 "metadata": {
  "accelerator": "GPU",
  "colab": {
   "collapsed_sections": [],
   "name": "galqiwi_sin2.ipynb",
   "provenance": []
  },
  "kernelspec": {
   "display_name": "Python 3",
   "language": "python",
   "name": "python3"
  },
  "language_info": {
   "codemirror_mode": {
    "name": "ipython",
    "version": 3
   },
   "file_extension": ".py",
   "mimetype": "text/x-python",
   "name": "python",
   "nbconvert_exporter": "python",
   "pygments_lexer": "ipython3",
   "version": "3.9.2"
  }
 },
 "nbformat": 4,
 "nbformat_minor": 1
}
